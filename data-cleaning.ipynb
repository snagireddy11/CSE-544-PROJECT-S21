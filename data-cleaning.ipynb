{
 "cells": [
  {
   "cell_type": "code",
   "execution_count": 1,
   "metadata": {},
   "outputs": [],
   "source": [
    "import pandas as pd"
   ]
  },
  {
   "cell_type": "code",
   "execution_count": 2,
   "metadata": {},
   "outputs": [],
   "source": [
    "states_df = pd.read_csv(\"States Data/22.csv\")"
   ]
  },
  {
   "cell_type": "code",
   "execution_count": 3,
   "metadata": {},
   "outputs": [
    {
     "name": "stdout",
     "output_type": "stream",
     "text": [
      "False\n"
     ]
    }
   ],
   "source": [
    "#Checking for null values in dataset\n",
    "print(states_df.isnull().values.any())"
   ]
  },
  {
   "cell_type": "markdown",
   "metadata": {},
   "source": [
    "There are no missing values in the dataset."
   ]
  },
  {
   "cell_type": "code",
   "execution_count": 4,
   "metadata": {},
   "outputs": [],
   "source": [
    "#Calculating the difference between each row as cumulative data is given in the states dataset. \n",
    "states_df_inter = states_df.set_index('Date').diff()\n",
    "states_df_inter.fillna(0, inplace=True)"
   ]
  },
  {
   "cell_type": "code",
   "execution_count": 5,
   "metadata": {},
   "outputs": [
    {
     "name": "stdout",
     "output_type": "stream",
     "text": [
      "TN confirmed    -2696.750\n",
      "TX confirmed   -10068.125\n",
      "TN deaths         -45.000\n",
      "TX deaths        -213.000\n",
      "dtype: float64\n",
      "TN confirmed     5275.250\n",
      "TX confirmed    19458.875\n",
      "TN deaths          83.000\n",
      "TX deaths         401.000\n",
      "dtype: float64\n"
     ]
    }
   ],
   "source": [
    "#Calculating the Q1, Q3 and IQR\n",
    "Q1 = states_df_inter.quantile(0.25)\n",
    "Q3 = states_df_inter.quantile(0.75)\n",
    "IQR = Q3 - Q1\n",
    "\n",
    "print(Q1 - 1.5 * IQR)\n",
    "print(Q3 + 1.5 * IQR)"
   ]
  },
  {
   "cell_type": "code",
   "execution_count": 6,
   "metadata": {},
   "outputs": [
    {
     "data": {
      "text/plain": [
       "(438, 4)"
      ]
     },
     "execution_count": 6,
     "metadata": {},
     "output_type": "execute_result"
    }
   ],
   "source": [
    "states_df_inter.shape"
   ]
  },
  {
   "cell_type": "code",
   "execution_count": 7,
   "metadata": {},
   "outputs": [],
   "source": [
    "states_df_inter.to_csv(\"States Data/22_inter.csv\")"
   ]
  },
  {
   "cell_type": "code",
   "execution_count": 12,
   "metadata": {},
   "outputs": [
    {
     "data": {
      "text/html": [
       "<div>\n",
       "<style scoped>\n",
       "    .dataframe tbody tr th:only-of-type {\n",
       "        vertical-align: middle;\n",
       "    }\n",
       "\n",
       "    .dataframe tbody tr th {\n",
       "        vertical-align: top;\n",
       "    }\n",
       "\n",
       "    .dataframe thead th {\n",
       "        text-align: right;\n",
       "    }\n",
       "</style>\n",
       "<table border=\"1\" class=\"dataframe\">\n",
       "  <thead>\n",
       "    <tr style=\"text-align: right;\">\n",
       "      <th></th>\n",
       "      <th>Date</th>\n",
       "      <th>TN confirmed</th>\n",
       "      <th>TX confirmed</th>\n",
       "      <th>TN deaths</th>\n",
       "      <th>TX deaths</th>\n",
       "    </tr>\n",
       "  </thead>\n",
       "  <tbody>\n",
       "    <tr>\n",
       "      <th>187</th>\n",
       "      <td>2020-07-27</td>\n",
       "      <td>2547.0</td>\n",
       "      <td>4412.0</td>\n",
       "      <td>11.0</td>\n",
       "      <td>673.0</td>\n",
       "    </tr>\n",
       "    <tr>\n",
       "      <th>191</th>\n",
       "      <td>2020-07-31</td>\n",
       "      <td>5793.0</td>\n",
       "      <td>8360.0</td>\n",
       "      <td>27.0</td>\n",
       "      <td>295.0</td>\n",
       "    </tr>\n",
       "    <tr>\n",
       "      <th>292</th>\n",
       "      <td>2020-11-09</td>\n",
       "      <td>5860.0</td>\n",
       "      <td>4193.0</td>\n",
       "      <td>15.0</td>\n",
       "      <td>22.0</td>\n",
       "    </tr>\n",
       "    <tr>\n",
       "      <th>294</th>\n",
       "      <td>2020-11-11</td>\n",
       "      <td>3630.0</td>\n",
       "      <td>11071.0</td>\n",
       "      <td>89.0</td>\n",
       "      <td>141.0</td>\n",
       "    </tr>\n",
       "    <tr>\n",
       "      <th>298</th>\n",
       "      <td>2020-11-15</td>\n",
       "      <td>5817.0</td>\n",
       "      <td>6008.0</td>\n",
       "      <td>16.0</td>\n",
       "      <td>89.0</td>\n",
       "    </tr>\n",
       "    <tr>\n",
       "      <th>...</th>\n",
       "      <td>...</td>\n",
       "      <td>...</td>\n",
       "      <td>...</td>\n",
       "      <td>...</td>\n",
       "      <td>...</td>\n",
       "    </tr>\n",
       "    <tr>\n",
       "      <th>378</th>\n",
       "      <td>2021-02-03</td>\n",
       "      <td>1856.0</td>\n",
       "      <td>17372.0</td>\n",
       "      <td>133.0</td>\n",
       "      <td>418.0</td>\n",
       "    </tr>\n",
       "    <tr>\n",
       "      <th>379</th>\n",
       "      <td>2021-02-04</td>\n",
       "      <td>3154.0</td>\n",
       "      <td>15131.0</td>\n",
       "      <td>169.0</td>\n",
       "      <td>439.0</td>\n",
       "    </tr>\n",
       "    <tr>\n",
       "      <th>380</th>\n",
       "      <td>2021-02-05</td>\n",
       "      <td>2661.0</td>\n",
       "      <td>15357.0</td>\n",
       "      <td>203.0</td>\n",
       "      <td>401.0</td>\n",
       "    </tr>\n",
       "    <tr>\n",
       "      <th>383</th>\n",
       "      <td>2021-02-08</td>\n",
       "      <td>1203.0</td>\n",
       "      <td>5987.0</td>\n",
       "      <td>96.0</td>\n",
       "      <td>57.0</td>\n",
       "    </tr>\n",
       "    <tr>\n",
       "      <th>385</th>\n",
       "      <td>2021-02-10</td>\n",
       "      <td>3652.0</td>\n",
       "      <td>12372.0</td>\n",
       "      <td>119.0</td>\n",
       "      <td>386.0</td>\n",
       "    </tr>\n",
       "  </tbody>\n",
       "</table>\n",
       "<p>62 rows × 5 columns</p>\n",
       "</div>"
      ],
      "text/plain": [
       "           Date  TN confirmed  TX confirmed  TN deaths  TX deaths\n",
       "187  2020-07-27        2547.0        4412.0       11.0      673.0\n",
       "191  2020-07-31        5793.0        8360.0       27.0      295.0\n",
       "292  2020-11-09        5860.0        4193.0       15.0       22.0\n",
       "294  2020-11-11        3630.0       11071.0       89.0      141.0\n",
       "298  2020-11-15        5817.0        6008.0       16.0       89.0\n",
       "..          ...           ...           ...        ...        ...\n",
       "378  2021-02-03        1856.0       17372.0      133.0      418.0\n",
       "379  2021-02-04        3154.0       15131.0      169.0      439.0\n",
       "380  2021-02-05        2661.0       15357.0      203.0      401.0\n",
       "383  2021-02-08        1203.0        5987.0       96.0       57.0\n",
       "385  2021-02-10        3652.0       12372.0      119.0      386.0\n",
       "\n",
       "[62 rows x 5 columns]"
      ]
     },
     "execution_count": 12,
     "metadata": {},
     "output_type": "execute_result"
    }
   ],
   "source": [
    "#Getting the rows which are outliers (detected by Tukey's rule with alpha = 1.5)\n",
    "outliers = states_df_inter[((states_df_inter < (Q1 - 1.5 * IQR)) |(states_df_inter > (Q3 + 1.5 * IQR))).any(axis=1)]\n",
    "outliers"
   ]
  },
  {
   "cell_type": "code",
   "execution_count": 9,
   "metadata": {},
   "outputs": [],
   "source": [
    "outliers.to_csv(\"States Data/outliers.csv\")\n",
    "outliers_date = outliers.reset_index().iloc[:,0].tolist()"
   ]
  },
  {
   "cell_type": "markdown",
   "metadata": {},
   "source": [
    "There were 62 outliers. The outlier values can be found in outliers.csv"
   ]
  },
  {
   "cell_type": "code",
   "execution_count": 10,
   "metadata": {},
   "outputs": [
    {
     "data": {
      "text/plain": [
       "(376, 4)"
      ]
     },
     "execution_count": 10,
     "metadata": {},
     "output_type": "execute_result"
    }
   ],
   "source": [
    "#Getting the cumulative data back again from per day stats\n",
    "states_df_inter = states_df_inter.reset_index()\n",
    "states_df_out = states_df_inter[~states_df_inter['Date'].isin(outliers_date)]\n",
    "states_df_out.set_index('Date', inplace = True)\n",
    "states_df_out = states_df_out.cumsum(axis = 0)\n",
    "states_df_out.shape"
   ]
  },
  {
   "cell_type": "code",
   "execution_count": 11,
   "metadata": {},
   "outputs": [],
   "source": [
    "states_df_out.to_csv(\"States Data/22_cleaned.csv\")"
   ]
  },
  {
   "cell_type": "markdown",
   "metadata": {},
   "source": [
    "The outliers are dropped and the remaining values are stored in 22_cleaned.csv"
   ]
  },
  {
   "cell_type": "code",
   "execution_count": null,
   "metadata": {},
   "outputs": [],
   "source": []
  }
 ],
 "metadata": {
  "kernelspec": {
   "display_name": "Python 3",
   "language": "python",
   "name": "python3"
  },
  "language_info": {
   "codemirror_mode": {
    "name": "ipython",
    "version": 3
   },
   "file_extension": ".py",
   "mimetype": "text/x-python",
   "name": "python",
   "nbconvert_exporter": "python",
   "pygments_lexer": "ipython3",
   "version": "3.8.5"
  }
 },
 "nbformat": 4,
 "nbformat_minor": 4
}

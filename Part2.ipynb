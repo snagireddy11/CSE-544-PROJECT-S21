{
 "cells": [
  {
   "cell_type": "code",
   "execution_count": 73,
   "metadata": {},
   "outputs": [],
   "source": [
    "import pandas as pd\n",
    "import numpy as np"
   ]
  },
  {
   "cell_type": "code",
   "execution_count": 74,
   "metadata": {},
   "outputs": [],
   "source": [
    "df = pd.read_csv(\"States Data/22_cleaned.csv\")"
   ]
  },
  {
   "cell_type": "code",
   "execution_count": 75,
   "metadata": {},
   "outputs": [
    {
     "data": {
      "text/plain": [
       "Index(['Unnamed: 0', 'Date', 'TN confirmed', 'TX confirmed', 'TN deaths',\n",
       "       'TX deaths'],\n",
       "      dtype='object')"
      ]
     },
     "execution_count": 75,
     "metadata": {},
     "output_type": "execute_result"
    }
   ],
   "source": [
    "df.columns"
   ]
  },
  {
   "cell_type": "code",
   "execution_count": 76,
   "metadata": {},
   "outputs": [],
   "source": [
    "df.drop('Unnamed: 0', axis=1, inplace=True)"
   ]
  },
  {
   "cell_type": "code",
   "execution_count": 77,
   "metadata": {},
   "outputs": [
    {
     "data": {
      "text/html": [
       "<div>\n",
       "<style scoped>\n",
       "    .dataframe tbody tr th:only-of-type {\n",
       "        vertical-align: middle;\n",
       "    }\n",
       "\n",
       "    .dataframe tbody tr th {\n",
       "        vertical-align: top;\n",
       "    }\n",
       "\n",
       "    .dataframe thead th {\n",
       "        text-align: right;\n",
       "    }\n",
       "</style>\n",
       "<table border=\"1\" class=\"dataframe\">\n",
       "  <thead>\n",
       "    <tr style=\"text-align: right;\">\n",
       "      <th></th>\n",
       "      <th>Date</th>\n",
       "      <th>TN confirmed</th>\n",
       "      <th>TX confirmed</th>\n",
       "      <th>TN deaths</th>\n",
       "      <th>TX deaths</th>\n",
       "    </tr>\n",
       "  </thead>\n",
       "  <tbody>\n",
       "    <tr>\n",
       "      <th>0</th>\n",
       "      <td>2020-01-22</td>\n",
       "      <td>0.0</td>\n",
       "      <td>0.0</td>\n",
       "      <td>0.0</td>\n",
       "      <td>0.0</td>\n",
       "    </tr>\n",
       "    <tr>\n",
       "      <th>1</th>\n",
       "      <td>2020-01-23</td>\n",
       "      <td>0.0</td>\n",
       "      <td>0.0</td>\n",
       "      <td>0.0</td>\n",
       "      <td>0.0</td>\n",
       "    </tr>\n",
       "    <tr>\n",
       "      <th>2</th>\n",
       "      <td>2020-01-24</td>\n",
       "      <td>0.0</td>\n",
       "      <td>0.0</td>\n",
       "      <td>0.0</td>\n",
       "      <td>0.0</td>\n",
       "    </tr>\n",
       "    <tr>\n",
       "      <th>3</th>\n",
       "      <td>2020-01-25</td>\n",
       "      <td>0.0</td>\n",
       "      <td>0.0</td>\n",
       "      <td>0.0</td>\n",
       "      <td>0.0</td>\n",
       "    </tr>\n",
       "    <tr>\n",
       "      <th>4</th>\n",
       "      <td>2020-01-26</td>\n",
       "      <td>0.0</td>\n",
       "      <td>0.0</td>\n",
       "      <td>0.0</td>\n",
       "      <td>0.0</td>\n",
       "    </tr>\n",
       "  </tbody>\n",
       "</table>\n",
       "</div>"
      ],
      "text/plain": [
       "         Date  TN confirmed  TX confirmed  TN deaths  TX deaths\n",
       "0  2020-01-22           0.0           0.0        0.0        0.0\n",
       "1  2020-01-23           0.0           0.0        0.0        0.0\n",
       "2  2020-01-24           0.0           0.0        0.0        0.0\n",
       "3  2020-01-25           0.0           0.0        0.0        0.0\n",
       "4  2020-01-26           0.0           0.0        0.0        0.0"
      ]
     },
     "execution_count": 77,
     "metadata": {},
     "output_type": "execute_result"
    }
   ],
   "source": [
    "df.head(5)"
   ]
  },
  {
   "cell_type": "code",
   "execution_count": 78,
   "metadata": {},
   "outputs": [],
   "source": [
    "#Wald's Test"
   ]
  },
  {
   "cell_type": "code",
   "execution_count": 79,
   "metadata": {},
   "outputs": [],
   "source": [
    "feb_month_data = df[(df['Date'] >= '2021-02-01') & (df['Date'] <= '2021-02-28')]"
   ]
  },
  {
   "cell_type": "code",
   "execution_count": 80,
   "metadata": {},
   "outputs": [
    {
     "data": {
      "text/plain": [
       "(21, 5)"
      ]
     },
     "execution_count": 80,
     "metadata": {},
     "output_type": "execute_result"
    }
   ],
   "source": [
    "feb_month_data.shape"
   ]
  },
  {
   "cell_type": "code",
   "execution_count": 81,
   "metadata": {},
   "outputs": [],
   "source": [
    "march_month_data = df[(df['Date'] >= '2021-03-01') & (df['Date'] <= '2021-03-31')]"
   ]
  },
  {
   "cell_type": "code",
   "execution_count": 82,
   "metadata": {},
   "outputs": [
    {
     "data": {
      "text/plain": [
       "(31, 5)"
      ]
     },
     "execution_count": 82,
     "metadata": {},
     "output_type": "execute_result"
    }
   ],
   "source": [
    "march_month_data.shape"
   ]
  },
  {
   "cell_type": "code",
   "execution_count": 83,
   "metadata": {},
   "outputs": [
    {
     "name": "stdout",
     "output_type": "stream",
     "text": [
      "TN State Feb Death Mean : 38.23809523809524\n",
      "TN State Feb No of Cases Mean : 1483.2857142857142\n",
      "TN State March Death Mean : 15.709677419354838\n",
      "TN State March No of Cases Mean : 1187.4193548387098\n"
     ]
    }
   ],
   "source": [
    "#State 1 : TN\n",
    "feb_month_mean_death_TN = feb_month_data['TN deaths'].mean()\n",
    "feb_month_mean_cases_TN = feb_month_data['TN confirmed'].mean()\n",
    "\n",
    "march_month_mean_death_TN = march_month_data['TN deaths'].mean()\n",
    "march_month_mean_cases_TN = march_month_data['TN confirmed'].mean()\n",
    "\n",
    "print(\"TN State Feb Death Mean : \" + str(feb_month_mean_death_TN))\n",
    "print(\"TN State Feb No of Cases Mean : \" + str(feb_month_mean_cases_TN))\n",
    "print(\"TN State March Death Mean : \" + str(march_month_mean_death_TN))\n",
    "print(\"TN State March No of Cases Mean : \" + str(march_month_mean_cases_TN))\n"
   ]
  },
  {
   "cell_type": "code",
   "execution_count": 84,
   "metadata": {},
   "outputs": [
    {
     "name": "stdout",
     "output_type": "stream",
     "text": [
      "TX State Feb Death Mean : 207.85714285714286\n",
      "TX State Feb No of Cases Mean : 7725.857142857143\n",
      "TX State March Death Mean : 139.96774193548387\n",
      "TX State March No of Cases Mean : 4377.129032258064\n"
     ]
    }
   ],
   "source": [
    "#State 2 : TX\n",
    "feb_month_mean_death_TX = feb_month_data['TX deaths'].mean()\n",
    "feb_month_mean_cases_TX = feb_month_data['TX confirmed'].mean()\n",
    "\n",
    "march_month_mean_death_TX = march_month_data['TX deaths'].mean()\n",
    "march_month_mean_cases_TX = march_month_data['TX confirmed'].mean()\n",
    "\n",
    "print(\"TX State Feb Death Mean : \" + str(feb_month_mean_death_TX))\n",
    "print(\"TX State Feb No of Cases Mean : \" + str(feb_month_mean_cases_TX))\n",
    "print(\"TX State March Death Mean : \" + str(march_month_mean_death_TX))\n",
    "print(\"TX State March No of Cases Mean : \" + str(march_month_mean_cases_TX))"
   ]
  },
  {
   "cell_type": "code",
   "execution_count": 85,
   "metadata": {},
   "outputs": [],
   "source": [
    "def walds_one_testing(march_data_mean,feb_data_mean,march_data):\n",
    "    # Computing the test statistic W = (theta_hat - guess) / se_hat(theta_hat) = (theta_hat - guess) / (root(lambda_MLE / n)) \n",
    "    guess = feb_data_mean\n",
    "    theta_hat = march_data_mean  # Since for Poisson-distributed data, MLE estimator is lamda_hat which is equal to sample mean\n",
    "    n = len(march_data)\n",
    "    num = theta_hat - guess\n",
    "    den = np.sqrt(march_data_mean / float(n))\n",
    "    w_stats = num / den\n",
    "    return np.abs(w_stats);"
   ]
  },
  {
   "cell_type": "code",
   "execution_count": 86,
   "metadata": {},
   "outputs": [
    {
     "name": "stdout",
     "output_type": "stream",
     "text": [
      "___Walds Test Result for State : TN___\n",
      "\n",
      "Walds one test Result of State TN under death category is : 31.646661759343917\n",
      "walds 1 sample testing for mean of death is w=31.646661759343917 which is greater than z_alpha/2 = 1.96 so reject the NULL hypothesis\n",
      "\n",
      "Walds one test Result of State TN under Cases category is : 47.805115629869654\n",
      "walds 1 sample testing for mean of cases is w=47.805115629869654 which is greater than z_alpha/2 = 1.96 so reject the NULL hypothesis\n"
     ]
    }
   ],
   "source": [
    "#Walds Test Result for State : TN\n",
    "print(\"___Walds Test Result for State : TN___\")\n",
    "print()\n",
    "\n",
    "#Category : Death\n",
    "walds_one_result_death_TN = walds_one_testing(march_month_mean_death_TN,feb_month_mean_death_TN,march_month_data)\n",
    "print(\"Walds one test Result of State TN under death category is : \" + str(walds_one_result_death_TN))\n",
    "if(walds_one_result_death_TN>1.96):\n",
    "    print(\"walds 1 sample testing for mean of death is w=\"+str(walds_one_result_death_TN) +\" which is greater than z_alpha/2 = 1.96 so reject the NULL hypothesis\")\n",
    "else:\n",
    "    print(\"walds 1 sample testing for mean of death is  w=\"+str(walds_one_result_death_TN)+ \" which is less than z_alpha/2 = 1.96 so accept the NULL hypothesis\")\n",
    "\n",
    "print()\n",
    "\n",
    "#Category : Cases\n",
    "walds_one_result_cases_TN = walds_one_testing(march_month_mean_cases_TN,feb_month_mean_cases_TN,march_month_data)\n",
    "print(\"Walds one test Result of State TN under Cases category is : \" + str(walds_one_result_cases_TN))\n",
    "if(walds_one_result_cases_TN>1.96):\n",
    "    print(\"walds 1 sample testing for mean of cases is w=\"+str(walds_one_result_cases_TN) +\" which is greater than z_alpha/2 = 1.96 so reject the NULL hypothesis\");\n",
    "else:\n",
    "    print(\"walds 1 sample testing for mean of cases is  w=\"+str(walds_one_result_cases_TN)+ \" which is less than z_alpha/2 = 1.96 so accept the NULL hypothesis\")"
   ]
  },
  {
   "cell_type": "code",
   "execution_count": 87,
   "metadata": {},
   "outputs": [
    {
     "name": "stdout",
     "output_type": "stream",
     "text": [
      "___Walds Test Result for State : TX___\n",
      "\n",
      "Walds one test Result of State TN under death category is : 31.949851585786913\n",
      "walds 1 sample testing for mean of death is w = 31.949851585786913 which is greater than z_alpha/2 = 1.962 so reject the NULL hypothesis\n",
      "\n",
      "Walds one test Result of State TN under Cases category is : 281.8162684575669\n",
      "walds 1 sample testing for mean of cases is w=281.8162684575669 which is greater than z_alpha/2 = 1.962 so reject the NULL hypothesis\n"
     ]
    }
   ],
   "source": [
    "#Walds Test Result for State : TX\n",
    "print(\"___Walds Test Result for State : TX___\")\n",
    "print()\n",
    "\n",
    "#Category : Death\n",
    "walds_one_result_death_TX = walds_one_testing(march_month_mean_death_TX,feb_month_mean_death_TX,march_month_data)\n",
    "print(\"Walds one test Result of State TN under death category is : \" + str(walds_one_result_death_TX))\n",
    "if(walds_one_result_death_TX > 1.962):\n",
    "    print(\"walds 1 sample testing for mean of death is w = \" +str(walds_one_result_death_TX) +  \" which is greater than z_alpha/2 = 1.962 so reject the NULL hypothesis\")\n",
    "else:\n",
    "    print(\"walds 1 sample testing for mean of death is  w = \" +str(walds_one_result_death_TX) + \" which is less than z_alpha/2 = 1.962 so accept the NULL hypothesis\")\n",
    "\n",
    "print()\n",
    "\n",
    "#Category : Cases\n",
    "walds_one_result_cases_TX = walds_one_testing(march_month_mean_cases_TX,feb_month_mean_cases_TX,march_month_data)\n",
    "print(\"Walds one test Result of State TN under Cases category is : \" + str(walds_one_result_cases_TX))\n",
    "if(walds_one_result_cases_TX > 1.962):\n",
    "    print(\"walds 1 sample testing for mean of cases is w=\"+str(walds_one_result_cases_TX) +\" which is greater than z_alpha/2 = 1.962 so reject the NULL hypothesis\");\n",
    "else:\n",
    "    print(\"walds 1 sample testing for mean of cases is  w=\"+str(walds_one_result_cases_TX)+ \" which is less than z_alpha/2 = 1.962 so accept the NULL hypothesis\")"
   ]
  },
  {
   "cell_type": "code",
   "execution_count": 88,
   "metadata": {},
   "outputs": [],
   "source": [
    "#Z Test\n",
    "\n",
    "def compute_corrected_std(data):\n",
    "    sum = 0\n",
    "    x_bar = data.mean()\n",
    "    n = len(data)\n",
    "    for x in data:\n",
    "        sum = sum + (np.square((x-x_bar)))\n",
    "    return np.sqrt(sum/(n-1))"
   ]
  },
  {
   "cell_type": "code",
   "execution_count": 89,
   "metadata": {},
   "outputs": [],
   "source": [
    "def z_testing(march_data_mean,feb_data_mean,total_data):\n",
    "    # Computing the z statistic z = (x_bar - guess) / (corrected_std / root of (n))\n",
    "    guess = feb_data_mean\n",
    "    x_bar = march_data_mean\n",
    "    corrected_std = compute_corrected_std(total_data)\n",
    "    num = (x_bar - guess)\n",
    "    den = corrected_std / np.sqrt(len(total_data))\n",
    "    z_stats = num / den\n",
    "    return np.abs(z_stats);"
   ]
  },
  {
   "cell_type": "code",
   "execution_count": 90,
   "metadata": {},
   "outputs": [
    {
     "name": "stdout",
     "output_type": "stream",
     "text": [
      "___Z Test Result for State : TN___\n",
      "\n",
      "Z test Result of State TN under death category is : [22.68600767]\n",
      "Z test Result is Z =[22.68600767] which is greater than z_alpha/2 = 1.962 so reject the NULL hypothesis\n",
      "\n",
      "Z test Result of State TN under Cases category is : [5.02387053]\n",
      "Z test Result is Z =[5.02387053] which is greater than z_alpha/2 = 1.962 so reject the NULL hypothesis\n"
     ]
    }
   ],
   "source": [
    "#Z Test Result for State : TN\n",
    "print(\"___Z Test Result for State : TN___\")\n",
    "print()\n",
    "\n",
    "#Category : Death\n",
    "z_test_result_death_TN = z_testing(march_month_mean_death_TN,feb_month_mean_death_TN,df[['TN deaths']].values)\n",
    "print(\"Z test Result of State TN under death category is : \" + str(z_test_result_death_TN))\n",
    "if(z_test_result_death_TN > 1.962):\n",
    "    print(\"Z test Result is Z =\" + str(z_test_result_death_TN) + \" which is greater than z_alpha/2 = 1.962 so reject the NULL hypothesis\")\n",
    "else:\n",
    "    print(\"Z test Result is Z =\" + str(z_test_result_death_TN) + \" which is less than z_alpha/2 = 1.962 so accept the NULL hypothesis\")\n",
    "\n",
    "print()\n",
    "\n",
    "#Category : Cases\n",
    "z_test_result_cases_TN = z_testing(march_month_mean_cases_TN,feb_month_mean_cases_TN,df[['TN confirmed']].values)\n",
    "print(\"Z test Result of State TN under Cases category is : \" + str(z_test_result_cases_TN))\n",
    "if(z_test_result_cases_TN > 1.962):\n",
    "    print(\"Z test Result is Z =\" + str(z_test_result_cases_TN) + \" which is greater than z_alpha/2 = 1.962 so reject the NULL hypothesis\");\n",
    "else:\n",
    "    print(\"Z test Result is Z =\" + str(z_test_result_cases_TN) + \" which is less than z_alpha/2 = 1.962 so accept the NULL hypothesis\")"
   ]
  },
  {
   "cell_type": "code",
   "execution_count": 91,
   "metadata": {},
   "outputs": [
    {
     "name": "stdout",
     "output_type": "stream",
     "text": [
      "___Z Test Result for State : TX___\n",
      "\n",
      "Z test Result of State TX under death category is : [14.4950297]\n",
      "Z test Result is Z =[14.4950297] which is greater than z_alpha/2 = 1.962 so reject the NULL hypothesis\n",
      "\n",
      "Z test Result of State TX under Cases category is : [15.96537287]\n",
      "Z test Result is Z =[15.96537287] which is greater than z_alpha/2 = 1.962 so reject the NULL hypothesis\n"
     ]
    }
   ],
   "source": [
    "#Z Test Result for State : TX\n",
    "print(\"___Z Test Result for State : TX___\")\n",
    "print()\n",
    "\n",
    "#Category : Death\n",
    "z_test_result_death_TX = z_testing(march_month_mean_death_TX,feb_month_mean_death_TX,df[['TX deaths']].values)\n",
    "print(\"Z test Result of State TX under death category is : \" + str(z_test_result_death_TX))\n",
    "if(z_test_result_death_TX > 1.962):\n",
    "    print(\"Z test Result is Z =\" + str(z_test_result_death_TX) + \" which is greater than z_alpha/2 = 1.962 so reject the NULL hypothesis\")\n",
    "else:\n",
    "    print(\"Z test Result is Z =\" + str(z_test_result_death_TX) + \" which is less than z_alpha/2 = 1.962 so accept the NULL hypothesis\")\n",
    "\n",
    "print()\n",
    "\n",
    "#Category : Cases\n",
    "z_test_result_cases_TX = z_testing(march_month_mean_cases_TX,feb_month_mean_cases_TX,df[['TX confirmed']].values)\n",
    "print(\"Z test Result of State TX under Cases category is : \" + str(z_test_result_cases_TX))\n",
    "if(z_test_result_cases_TX > 1.962):\n",
    "    print(\"Z test Result is Z =\" + str(z_test_result_cases_TX) + \" which is greater than z_alpha/2 = 1.962 so reject the NULL hypothesis\");\n",
    "else:\n",
    "    print(\"Z test Result is Z =\" + str(z_test_result_cases_TX) + \" which is less than z_alpha/2 = 1.962 so accept the NULL hypothesis\")"
   ]
  },
  {
   "cell_type": "code",
   "execution_count": 92,
   "metadata": {},
   "outputs": [],
   "source": [
    "#One Sample T test\n",
    "def t_one_testing(march_data_mean,feb_data_mean,march_data):\n",
    "    # Computing t statistic = (x_bar - guess) / (corrected_std / root of (n))\n",
    "    guess = feb_data_mean\n",
    "    x_bar = march_data_mean\n",
    "    corrected_std = compute_corrected_std(march_data)\n",
    "    num = (x_bar - guess)\n",
    "    den = corrected_std / np.sqrt(len(march_data))\n",
    "    t_stats = num / den\n",
    "    return np.abs(t_stats);"
   ]
  },
  {
   "cell_type": "code",
   "execution_count": 93,
   "metadata": {},
   "outputs": [
    {
     "name": "stdout",
     "output_type": "stream",
     "text": [
      "___One Sample T Test Result for State : TN___\n",
      "\n",
      "One Sample T Test Result of State TN under death category is : [9.16571475]\n",
      "One Sample T Test Result is T =[9.16571475] which is greater than t(30,0.025) = 2.042 so reject the NULL hypothesis\n",
      "\n",
      "One Sample T Test Result of State TN under Cases category is : [1.91472211]\n",
      "One Sample T Test Result is T =[1.91472211] which is less than t(30,0.025) = 2.042 so accept the NULL hypothesis\n"
     ]
    }
   ],
   "source": [
    "#One Sample T Test Result for State : TN\n",
    "print(\"___One Sample T Test Result for State : TN___\")\n",
    "print()\n",
    "\n",
    "#Category : Death\n",
    "t_one_test_result_death_TN = t_one_testing(march_month_mean_death_TN,feb_month_mean_death_TN,march_month_data[['TN deaths']].values)\n",
    "print(\"One Sample T Test Result of State TN under death category is : \" + str(t_one_test_result_death_TN))\n",
    "if(t_one_test_result_death_TN > 2.042):\n",
    "    print(\"One Sample T Test Result is T =\" + str(t_one_test_result_death_TN) + \" which is greater than t(30,0.025) = 2.042 so reject the NULL hypothesis\")\n",
    "else:\n",
    "    print(\"One Sample T Test Result is T =\" + str(t_one_test_result_death_TN) + \" which is less than t(30,0.025) = 2.042 so accept the NULL hypothesis\")\n",
    "\n",
    "print()\n",
    "\n",
    "#Category : Cases\n",
    "t_one_test_result_cases_TN = t_one_testing(march_month_mean_cases_TN,feb_month_mean_cases_TN,march_month_data[['TN confirmed']].values)\n",
    "print(\"One Sample T Test Result of State TN under Cases category is : \" + str(t_one_test_result_cases_TN))\n",
    "if(t_one_test_result_cases_TN > 2.042):\n",
    "    print(\"One Sample T Test Result is T =\" + str(t_one_test_result_cases_TN) + \" which is greater than t(30,0.025) = 2.042 so reject the NULL hypothesis\");\n",
    "else:\n",
    "    print(\"One Sample T Test Result is T =\" + str(t_one_test_result_cases_TN) + \" which is less than t(30,0.025) = 2.042 so accept the NULL hypothesis\")"
   ]
  },
  {
   "cell_type": "code",
   "execution_count": 94,
   "metadata": {},
   "outputs": [
    {
     "name": "stdout",
     "output_type": "stream",
     "text": [
      "___One Sample T Test Result for State : TX___\n",
      "\n",
      "One Sample T Test Result of State TN under death category is : [4.38835132]\n",
      "One Sample T Test Result is T =[4.38835132] which is greater than t(30,0.025) = 2.042 so reject the NULL hypothesis\n",
      "\n",
      "One Sample T Test Result of State TN under Cases category is : [9.807289]\n",
      "One Sample T Test Result is T =[9.807289] which is greater than t(30,0.025) = 2.042 so reject the NULL hypothesis\n"
     ]
    }
   ],
   "source": [
    "#One Sample T Test Result for State : TX\n",
    "print(\"___One Sample T Test Result for State : TX___\")\n",
    "print()\n",
    "\n",
    "#Category : Death\n",
    "t_one_test_result_death_TX = t_one_testing(march_month_mean_death_TX,feb_month_mean_death_TX,march_month_data[['TX deaths']].values)\n",
    "print(\"One Sample T Test Result of State TN under death category is : \" + str(t_one_test_result_death_TX))\n",
    "if(t_one_test_result_death_TX > 2.042):\n",
    "    print(\"One Sample T Test Result is T =\" + str(t_one_test_result_death_TX) + \" which is greater than t(30,0.025) = 2.042 so reject the NULL hypothesis\")\n",
    "else:\n",
    "    print(\"One Sample T Test Result is T =\" + str(t_one_test_result_death_TX) + \" which is less than t(30,0.025) = 2.042 so accept the NULL hypothesis\")\n",
    "\n",
    "print()\n",
    "\n",
    "#Category : Cases\n",
    "t_one_test_result_cases_TX = t_one_testing(march_month_mean_cases_TX,feb_month_mean_cases_TX,march_month_data[['TX confirmed']].values)\n",
    "print(\"One Sample T Test Result of State TN under Cases category is : \" + str(t_one_test_result_cases_TX))\n",
    "if(t_one_test_result_cases_TX > 2.042):\n",
    "    print(\"One Sample T Test Result is T =\" + str(t_one_test_result_cases_TX) + \" which is greater than t(30,0.025) = 2.042 so reject the NULL hypothesis\");\n",
    "else:\n",
    "    print(\"One Sample T Test Result is T =\" + str(t_one_test_result_cases_TX) + \" which is less than t(30,0.025) = 2.042 so accept the NULL hypothesis\")"
   ]
  },
  {
   "cell_type": "code",
   "execution_count": 95,
   "metadata": {},
   "outputs": [],
   "source": [
    "##Two sample Walds test\n",
    "def walds_two_sample_testing(march_data_mean,feb_data_mean,march_data,feb_data):\n",
    "    mu_y = feb_data_mean\n",
    "    mu_x = march_data_mean\n",
    "    std_error = np.sqrt((march_data_mean / len(march_data)) + (feb_data_mean / len(feb_data))) \n",
    "    num = mu_x - mu_y\n",
    "    w_two_sample_stats = num / std_error\n",
    "    return np.abs(w_two_sample_stats)"
   ]
  },
  {
   "cell_type": "code",
   "execution_count": 96,
   "metadata": {},
   "outputs": [
    {
     "name": "stdout",
     "output_type": "stream",
     "text": [
      "___Walds Two Sample Test Result for State : TN___\n",
      "\n",
      "Walds Two Sample Test Result of State TN under death category is : 14.766383456665165\n",
      "Walds Two Sample Test Result for mean of death is w = 14.766383456665165 which is greater than z_alpha/2 = 1.962 so reject the NULL hypothesis\n",
      "\n",
      "Walds Two Sample Test Result of State TN under Cases category is : 28.34711545617562\n",
      "Walds Two Sample Test Result for mean of cases is w = 28.34711545617562 which is greater than z_alpha/2 = 1.962 so reject the NULL hypothesis\n"
     ]
    }
   ],
   "source": [
    "#Walds Two Sample Test Result for State : TN\n",
    "print(\"___Walds Two Sample Test Result for State : TN___\")\n",
    "print()\n",
    "\n",
    "#Category : Death\n",
    "walds_two_result_death_TN = walds_two_sample_testing(march_month_mean_death_TN,feb_month_mean_death_TN,march_month_data,feb_month_data)\n",
    "print(\"Walds Two Sample Test Result of State TN under death category is : \" + str(walds_two_result_death_TN))\n",
    "if(walds_two_result_death_TN > 1.962):\n",
    "    print(\"Walds Two Sample Test Result for mean of death is w = \"+str(walds_two_result_death_TN) +\" which is greater than z_alpha/2 = 1.962 so reject the NULL hypothesis\")\n",
    "else:\n",
    "    print(\"Walds Two Sample Test Result for mean of death is  w = \"+str(walds_two_result_death_TN)+ \" which is less than z_alpha/2 = 1.962 so accept the NULL hypothesis\")\n",
    "\n",
    "print()\n",
    "\n",
    "#Category : Cases\n",
    "walds_two_result_cases_TN = walds_two_sample_testing(march_month_mean_cases_TN,feb_month_mean_cases_TN,march_month_data,feb_month_data)\n",
    "print(\"Walds Two Sample Test Result of State TN under Cases category is : \" + str(walds_two_result_cases_TN))\n",
    "if(walds_two_result_cases_TN > 1.962):\n",
    "    print(\"Walds Two Sample Test Result for mean of cases is w = \"+str(walds_two_result_cases_TN) +\" which is greater than z_alpha/2 = 1.962 so reject the NULL hypothesis\");\n",
    "else:\n",
    "    print(\"Walds Two Sample Test Result for mean of cases is  w = \" +str(walds_two_result_cases_TN)+ \" which is less than z_alpha/2 = 1.962 so accept the NULL hypothesis\")"
   ]
  },
  {
   "cell_type": "code",
   "execution_count": 99,
   "metadata": {},
   "outputs": [
    {
     "name": "stdout",
     "output_type": "stream",
     "text": [
      "___Walds Two Sample Test Result for State : TX___\n",
      "\n",
      "Walds Two Sample Test Result of State TX under death category is : 17.88232836525732\n",
      "Walds Two Sample Test Result for mean of death is w = 17.88232836525732 which is greater than z_alpha/2 = 1.962 so reject the NULL hypothesis\n",
      "\n",
      "Walds Two Sample Test Result of State TX under Cases category is : 148.41581668839095\n",
      "Walds Two Sample Test Result for mean of cases is w = 148.41581668839095 which is greater than z_alpha/2 = 1.962 so reject the NULL hypothesis\n"
     ]
    }
   ],
   "source": [
    "#Walds Two Sample Test Result for State : TX\n",
    "print(\"___Walds Two Sample Test Result for State : TX___\")\n",
    "print()\n",
    "\n",
    "#Category : Death\n",
    "walds_two_result_death_TX = walds_two_sample_testing(march_month_mean_death_TX,feb_month_mean_death_TX,march_month_data,feb_month_data)\n",
    "print(\"Walds Two Sample Test Result of State TX under death category is : \" + str(walds_two_result_death_TX))\n",
    "if(walds_two_result_death_TX > 1.962):\n",
    "    print(\"Walds Two Sample Test Result for mean of death is w = \"+str(walds_two_result_death_TX) +\" which is greater than z_alpha/2 = 1.962 so reject the NULL hypothesis\")\n",
    "else:\n",
    "    print(\"Walds Two Sample Test Result for mean of death is  w = \"+str(walds_two_result_death_TX)+ \" which is less than z_alpha/2 = 1.962 so accept the NULL hypothesis\")\n",
    "\n",
    "print()\n",
    "\n",
    "#Category : Cases\n",
    "walds_two_result_cases_TX = walds_two_sample_testing(march_month_mean_cases_TX,feb_month_mean_cases_TX,march_month_data,feb_month_data)\n",
    "print(\"Walds Two Sample Test Result of State TX under Cases category is : \" + str(walds_two_result_cases_TX))\n",
    "if(walds_two_result_cases_TX > 1.962):\n",
    "    print(\"Walds Two Sample Test Result for mean of cases is w = \" +str(walds_two_result_cases_TX) +\" which is greater than z_alpha/2 = 1.962 so reject the NULL hypothesis\");\n",
    "else:\n",
    "    print(\"Walds Two Sample Test Result for mean of cases is  w = \" +str(walds_two_result_cases_TX)+ \" which is less than z_alpha/2 = 1.962 so accept the NULL hypothesis\")"
   ]
  },
  {
   "cell_type": "code",
   "execution_count": 102,
   "metadata": {},
   "outputs": [],
   "source": [
    "#Two Sample t unpaired testing:\n",
    "def unpaired_t_test_two_sample_testing(march_data_mean,feb_data_mean,march_data,feb_data):\n",
    "    y_bar = feb_data_mean\n",
    "    x_bar = march_data_mean\n",
    "    d_bar = x_bar - y_bar\n",
    "    # For unpaired t-test, we use the pooled standard deviation\n",
    "    x_var = np.square(compute_corrected_std(march_data))\n",
    "    y_var = np.square(compute_corrected_std(feb_data))\n",
    "    std_dev = np.sqrt((x_var / len(march_data)) + (y_var / len(feb_data)))\n",
    "    t_stats_unpaired = d_bar / std_dev\n",
    "    return abs(t_stats_unpaired)"
   ]
  },
  {
   "cell_type": "code",
   "execution_count": 104,
   "metadata": {},
   "outputs": [
    {
     "name": "stdout",
     "output_type": "stream",
     "text": [
      "___Two Sample t unpaired Test Result for State : TN___\n",
      "\n",
      "Two Sample t unpaired Test Result of State TN under death category is : [3.55075078]\n",
      "Two Sample t unpaired Test Result is T =[3.55075078] which is greater than t(50,0.025) = 2.01 so reject the NULL hypothesis\n",
      "\n",
      "Two Sample t unpaired Test Result of State TN under Cases category is : [1.49354506]\n",
      "Two Sample t unpaired Test Result is T =[1.49354506] which is less than t(50,0.025) = 2.01 so accept the NULL hypothesis\n"
     ]
    }
   ],
   "source": [
    "#Two Sample t unpaired Test Result for State : TN\n",
    "print(\"___Two Sample t unpaired Test Result for State : TN___\")\n",
    "print()\n",
    "\n",
    "#Category : Death\n",
    "t_two_unpaired_test_result_death_TN = unpaired_t_test_two_sample_testing(march_month_mean_death_TN,feb_month_mean_death_TN,march_month_data[['TN deaths']].values,feb_month_data[['TN deaths']].values)\n",
    "print(\"Two Sample t unpaired Test Result of State TN under death category is : \" + str(t_two_unpaired_test_result_death_TN))\n",
    "if(t_two_unpaired_test_result_death_TN > 2.01):\n",
    "    print(\"Two Sample t unpaired Test Result is T =\" + str(t_two_unpaired_test_result_death_TN) + \" which is greater than t(50,0.025) = 2.01 so reject the NULL hypothesis\")\n",
    "else:\n",
    "    print(\"Two Sample t unpaired Test Result is T =\" + str(t_two_unpaired_test_result_death_TN) + \" which is less than t(50,0.025) = 2.01 so accept the NULL hypothesis\")\n",
    "\n",
    "print()\n",
    "\n",
    "#Category : Cases\n",
    "t_two_unpaired_test_result_cases_TN= unpaired_t_test_two_sample_testing(march_month_mean_cases_TN,feb_month_mean_cases_TN,march_month_data[['TN confirmed']].values,feb_month_data[['TN confirmed']].values)\n",
    "print(\"Two Sample t unpaired Test Result of State TN under Cases category is : \" + str(t_two_unpaired_test_result_cases_TN))\n",
    "if(t_two_unpaired_test_result_cases_TN > 2.01):\n",
    "    print(\"Two Sample t unpaired Test Result is T =\" + str(t_two_unpaired_test_result_cases_TN) + \" which is greater than t(50,0.025) = 2.01 so reject the NULL hypothesis\");\n",
    "else:\n",
    "    print(\"Two Sample t unpaired Test Result is T =\" + str(t_two_unpaired_test_result_cases_TN) + \" which is less than t(50,0.025) = 2.01 so accept the NULL hypothesis\")"
   ]
  },
  {
   "cell_type": "code",
   "execution_count": 105,
   "metadata": {},
   "outputs": [
    {
     "name": "stdout",
     "output_type": "stream",
     "text": [
      "___Two Sample t unpaired Test Result for State : TX___\n",
      "\n",
      "Two Sample t unpaired Test Result of State TX under death category is : [2.44514278]\n",
      "Two Sample t unpaired Test Result is T =[2.44514278] which is greater than t(50,0.025) = 2.01 so reject the NULL hypothesis\n",
      "\n",
      "Two Sample t unpaired Test Result of State TN under Cases category is : [3.73003452]\n",
      "Two Sample t unpaired Test Result is T =[3.73003452] which is greater than t(50,0.025) = 2.01 so reject the NULL hypothesis\n"
     ]
    }
   ],
   "source": [
    "#Two Sample t unpaired Test Result for State : TX\n",
    "print(\"___Two Sample t unpaired Test Result for State : TX___\")\n",
    "print()\n",
    "\n",
    "#Category : Death\n",
    "t_two_unpaired_test_result_death_TX = unpaired_t_test_two_sample_testing(march_month_mean_death_TX,feb_month_mean_death_TX,march_month_data[['TX deaths']].values,feb_month_data[['TX deaths']].values)\n",
    "print(\"Two Sample t unpaired Test Result of State TX under death category is : \" + str(t_two_unpaired_test_result_death_TX))\n",
    "if(t_two_unpaired_test_result_death_TX > 2.01):\n",
    "    print(\"Two Sample t unpaired Test Result is T =\" + str(t_two_unpaired_test_result_death_TX) + \" which is greater than t(50,0.025) = 2.01 so reject the NULL hypothesis\")\n",
    "else:\n",
    "    print(\"Two Sample t unpaired Test Result is T =\" + str(t_two_unpaired_test_result_death_TX) + \" which is less than t(50,0.025) = 2.01 so accept the NULL hypothesis\")\n",
    "\n",
    "print()\n",
    "\n",
    "#Category : Cases\n",
    "t_two_unpaired_test_result_cases_TX = unpaired_t_test_two_sample_testing(march_month_mean_cases_TX,feb_month_mean_cases_TX,march_month_data[['TX confirmed']].values,feb_month_data[['TX confirmed']].values)\n",
    "print(\"Two Sample t unpaired Test Result of State TN under Cases category is : \" + str(t_two_unpaired_test_result_cases_TX))\n",
    "if(t_two_unpaired_test_result_cases_TX > 2.01):\n",
    "    print(\"Two Sample t unpaired Test Result is T =\" + str(t_two_unpaired_test_result_cases_TX) + \" which is greater than t(50,0.025) = 2.01 so reject the NULL hypothesis\");\n",
    "else:\n",
    "    print(\"Two Sample t unpaired Test Result is T =\" + str(t_two_unpaired_test_result_cases_TX) + \" which is less than t(50,0.025) = 2.01 so accept the NULL hypothesis\")"
   ]
  },
  {
   "cell_type": "code",
   "execution_count": null,
   "metadata": {},
   "outputs": [],
   "source": []
  }
 ],
 "metadata": {
  "kernelspec": {
   "display_name": "Python 3",
   "language": "python",
   "name": "python3"
  },
  "language_info": {
   "codemirror_mode": {
    "name": "ipython",
    "version": 3
   },
   "file_extension": ".py",
   "mimetype": "text/x-python",
   "name": "python",
   "nbconvert_exporter": "python",
   "pygments_lexer": "ipython3",
   "version": "3.8.3"
  }
 },
 "nbformat": 4,
 "nbformat_minor": 4
}

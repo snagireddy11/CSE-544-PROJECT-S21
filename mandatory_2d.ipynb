{
 "cells": [
  {
   "cell_type": "code",
   "execution_count": 1,
   "metadata": {},
   "outputs": [],
   "source": [
    "#importing the librabries\n",
    "\n",
    "import pandas as pd\n",
    "import matplotlib.pyplot as plt\n",
    "import numpy as np"
   ]
  },
  {
   "cell_type": "code",
   "execution_count": 2,
   "metadata": {},
   "outputs": [
    {
     "data": {
      "text/html": [
       "<div>\n",
       "<style scoped>\n",
       "    .dataframe tbody tr th:only-of-type {\n",
       "        vertical-align: middle;\n",
       "    }\n",
       "\n",
       "    .dataframe tbody tr th {\n",
       "        vertical-align: top;\n",
       "    }\n",
       "\n",
       "    .dataframe thead th {\n",
       "        text-align: right;\n",
       "    }\n",
       "</style>\n",
       "<table border=\"1\" class=\"dataframe\">\n",
       "  <thead>\n",
       "    <tr style=\"text-align: right;\">\n",
       "      <th></th>\n",
       "      <th>Unnamed: 0</th>\n",
       "      <th>Date</th>\n",
       "      <th>TN confirmed</th>\n",
       "      <th>TX confirmed</th>\n",
       "      <th>TN deaths</th>\n",
       "      <th>TX deaths</th>\n",
       "      <th>total_death</th>\n",
       "    </tr>\n",
       "  </thead>\n",
       "  <tbody>\n",
       "    <tr>\n",
       "      <th>0</th>\n",
       "      <td>0</td>\n",
       "      <td>2020-01-22</td>\n",
       "      <td>0.0</td>\n",
       "      <td>0.0</td>\n",
       "      <td>0.0</td>\n",
       "      <td>0.0</td>\n",
       "      <td>0.0</td>\n",
       "    </tr>\n",
       "    <tr>\n",
       "      <th>1</th>\n",
       "      <td>1</td>\n",
       "      <td>2020-01-23</td>\n",
       "      <td>0.0</td>\n",
       "      <td>0.0</td>\n",
       "      <td>0.0</td>\n",
       "      <td>0.0</td>\n",
       "      <td>0.0</td>\n",
       "    </tr>\n",
       "    <tr>\n",
       "      <th>2</th>\n",
       "      <td>2</td>\n",
       "      <td>2020-01-24</td>\n",
       "      <td>0.0</td>\n",
       "      <td>0.0</td>\n",
       "      <td>0.0</td>\n",
       "      <td>0.0</td>\n",
       "      <td>0.0</td>\n",
       "    </tr>\n",
       "    <tr>\n",
       "      <th>3</th>\n",
       "      <td>3</td>\n",
       "      <td>2020-01-25</td>\n",
       "      <td>0.0</td>\n",
       "      <td>0.0</td>\n",
       "      <td>0.0</td>\n",
       "      <td>0.0</td>\n",
       "      <td>0.0</td>\n",
       "    </tr>\n",
       "    <tr>\n",
       "      <th>4</th>\n",
       "      <td>4</td>\n",
       "      <td>2020-01-26</td>\n",
       "      <td>0.0</td>\n",
       "      <td>0.0</td>\n",
       "      <td>0.0</td>\n",
       "      <td>0.0</td>\n",
       "      <td>0.0</td>\n",
       "    </tr>\n",
       "    <tr>\n",
       "      <th>...</th>\n",
       "      <td>...</td>\n",
       "      <td>...</td>\n",
       "      <td>...</td>\n",
       "      <td>...</td>\n",
       "      <td>...</td>\n",
       "      <td>...</td>\n",
       "      <td>...</td>\n",
       "    </tr>\n",
       "    <tr>\n",
       "      <th>371</th>\n",
       "      <td>433</td>\n",
       "      <td>2021-03-30</td>\n",
       "      <td>840.0</td>\n",
       "      <td>3672.0</td>\n",
       "      <td>29.0</td>\n",
       "      <td>109.0</td>\n",
       "      <td>138.0</td>\n",
       "    </tr>\n",
       "    <tr>\n",
       "      <th>372</th>\n",
       "      <td>434</td>\n",
       "      <td>2021-03-31</td>\n",
       "      <td>1313.0</td>\n",
       "      <td>122.0</td>\n",
       "      <td>10.0</td>\n",
       "      <td>0.0</td>\n",
       "      <td>10.0</td>\n",
       "    </tr>\n",
       "    <tr>\n",
       "      <th>373</th>\n",
       "      <td>435</td>\n",
       "      <td>2021-04-01</td>\n",
       "      <td>1770.0</td>\n",
       "      <td>7424.0</td>\n",
       "      <td>14.0</td>\n",
       "      <td>243.0</td>\n",
       "      <td>257.0</td>\n",
       "    </tr>\n",
       "    <tr>\n",
       "      <th>374</th>\n",
       "      <td>436</td>\n",
       "      <td>2021-04-02</td>\n",
       "      <td>0.0</td>\n",
       "      <td>3275.0</td>\n",
       "      <td>0.0</td>\n",
       "      <td>115.0</td>\n",
       "      <td>115.0</td>\n",
       "    </tr>\n",
       "    <tr>\n",
       "      <th>375</th>\n",
       "      <td>437</td>\n",
       "      <td>2021-04-03</td>\n",
       "      <td>0.0</td>\n",
       "      <td>1689.0</td>\n",
       "      <td>0.0</td>\n",
       "      <td>86.0</td>\n",
       "      <td>86.0</td>\n",
       "    </tr>\n",
       "  </tbody>\n",
       "</table>\n",
       "<p>376 rows × 7 columns</p>\n",
       "</div>"
      ],
      "text/plain": [
       "     Unnamed: 0        Date  TN confirmed  TX confirmed  TN deaths  TX deaths  \\\n",
       "0             0  2020-01-22           0.0           0.0        0.0        0.0   \n",
       "1             1  2020-01-23           0.0           0.0        0.0        0.0   \n",
       "2             2  2020-01-24           0.0           0.0        0.0        0.0   \n",
       "3             3  2020-01-25           0.0           0.0        0.0        0.0   \n",
       "4             4  2020-01-26           0.0           0.0        0.0        0.0   \n",
       "..          ...         ...           ...           ...        ...        ...   \n",
       "371         433  2021-03-30         840.0        3672.0       29.0      109.0   \n",
       "372         434  2021-03-31        1313.0         122.0       10.0        0.0   \n",
       "373         435  2021-04-01        1770.0        7424.0       14.0      243.0   \n",
       "374         436  2021-04-02           0.0        3275.0        0.0      115.0   \n",
       "375         437  2021-04-03           0.0        1689.0        0.0       86.0   \n",
       "\n",
       "     total_death  \n",
       "0            0.0  \n",
       "1            0.0  \n",
       "2            0.0  \n",
       "3            0.0  \n",
       "4            0.0  \n",
       "..           ...  \n",
       "371        138.0  \n",
       "372         10.0  \n",
       "373        257.0  \n",
       "374        115.0  \n",
       "375         86.0  \n",
       "\n",
       "[376 rows x 7 columns]"
      ]
     },
     "execution_count": 2,
     "metadata": {},
     "output_type": "execute_result"
    }
   ],
   "source": [
    "#Loading the data and adding the total deaths\n",
    "\n",
    "data = pd.read_csv('States Data/22_cleaned.csv')\n",
    "data['total_death'] = data['TN deaths'] + data['TX deaths']\n",
    "data"
   ]
  },
  {
   "cell_type": "code",
   "execution_count": 3,
   "metadata": {},
   "outputs": [],
   "source": [
    "#Extracting the Data for month of June and July\n",
    "\n",
    "week8_data = data[data['Date']>='2020-06-01']\n",
    "week8_data = week8_data[week8_data['Date']<='2020-07-31']\n",
    "week8_data = week8_data[:7*8]"
   ]
  },
  {
   "cell_type": "code",
   "execution_count": null,
   "metadata": {},
   "outputs": [],
   "source": []
  },
  {
   "cell_type": "markdown",
   "metadata": {},
   "source": [
    "### Inference 4\n",
    "\n",
    "The task to plot the MAP values for the lambda paramter which is distributed as an exponential distribution. While the combined deaths in each states are distibuted as poisson distribution with parameter lambda. So, according to the data above it can be found out that the posterior follow gamma distribution and the results for the same are below:"
   ]
  },
  {
   "cell_type": "code",
   "execution_count": 4,
   "metadata": {},
   "outputs": [
    {
     "data": {
      "image/png": "[encoded data removed]",
      "text/plain": [
       "<Figure size 864x576 with 1 Axes>"
      ]
     },
     "metadata": {
      "needs_background": "light"
     },
     "output_type": "display_data"
    }
   ],
   "source": [
    "from scipy.stats import gamma\n",
    "\n",
    "date=list(week8_data['Date'])\n",
    "deaths=list(week8_data['total_death'])\n",
    "\n",
    "def plot_gamma(alpha=1, beta=1, label=\"0\"):\n",
    "    #print((alpha-1)/beta)\n",
    "    x = np.linspace(gamma.ppf(0, alpha, scale=1/beta),gamma.ppf(0.9999999999, alpha, scale=1/beta), 1000)\n",
    "  \n",
    "    plt.title(\"Posterior gamma distributions with their MAP(mean) values\")\n",
    "    label= label + \"MAP: \" + str(round(((alpha-1)/beta),3))\n",
    "    plt.plot(x, gamma.pdf(x, alpha, scale=1/beta), label=label)\n",
    "    plt.xlabel(\"Number of deaths\")\n",
    "    plt.ylabel(\"PDF of Gamma distribution\")\n",
    "    plt.legend()\n",
    "\n",
    "plt.figure(figsize=(12,8))\n",
    "plot_gamma(sum(deaths[:35])+1,len(deaths[:35]) + len(deaths[:35])/sum(deaths[:35]),'Fifth Week ')\n",
    "plot_gamma(sum(deaths[:42])+1,len(deaths[:42]) + len(deaths[:42])/sum(deaths[:42]),'Sixth Week ') \n",
    "plot_gamma(sum(deaths[:48])+1,len(deaths[:48]) + len(deaths[:48])/sum(deaths[:48]),'Seventh Week ') \n",
    "plot_gamma(sum(deaths[:54])+1,len(deaths[:54]) + len(deaths[:54])/sum(deaths[:54]),'Eighth Week ')\n",
    "plt.show()"
   ]
  },
  {
   "cell_type": "markdown",
   "metadata": {},
   "source": [
    "From the above plot we can find the MAP values for the Lambda for the Fifth to Eighth week. So we can see that as we add more data to the model, the MAP values are increasing as the total number of deaths are increasing."
   ]
  },
  {
   "cell_type": "code",
   "execution_count": null,
   "metadata": {},
   "outputs": [],
   "source": []
  },
  {
   "cell_type": "code",
   "execution_count": null,
   "metadata": {},
   "outputs": [],
   "source": []
  },
  {
   "cell_type": "code",
   "execution_count": null,
   "metadata": {},
   "outputs": [],
   "source": []
  },
  {
   "cell_type": "code",
   "execution_count": null,
   "metadata": {},
   "outputs": [],
   "source": []
  },
  {
   "cell_type": "code",
   "execution_count": null,
   "metadata": {},
   "outputs": [],
   "source": []
  }
 ],
 "metadata": {
  "kernelspec": {
   "display_name": "Python 3",
   "language": "python",
   "name": "python3"
  },
  "language_info": {
   "codemirror_mode": {
    "name": "ipython",
    "version": 3
   },
   "file_extension": ".py",
   "mimetype": "text/x-python",
   "name": "python",
   "nbconvert_exporter": "python",
   "pygments_lexer": "ipython3",
   "version": "3.8.5"
  }
 },
 "nbformat": 4,
 "nbformat_minor": 4
}

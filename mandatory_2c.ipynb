{
  "nbformat": 4,
  "nbformat_minor": 0,
  "metadata": {
    "colab": {
      "name": "mandatory_2c",
      "provenance": [],
      "collapsed_sections": []
    },
    "kernelspec": {
      "name": "python3",
      "display_name": "Python 3"
    },
    "language_info": {
      "name": "python"
    }
  },
  "cells": [
    {
      "cell_type": "code",
      "metadata": {
        "id": "LN2zjPhLeD2A"
      },
      "source": [
        "import numpy as np\n",
        "import pandas as pd\n",
        "import matplotlib.pyplot as plt\n",
        "import collections\n",
        "\n",
        "from scipy.stats import poisson, binom, geom\n",
        "\n",
        "states_df = pd.read_csv(\"22_cleaned.csv\")"
      ],
      "execution_count": 851,
      "outputs": []
    },
    {
      "cell_type": "code",
      "metadata": {
        "id": "fX9dlO29Asow"
      },
      "source": [
        "#Obtaining the data for TN and TX confirmed cases on a daily basis dated from 10/1/2020 to 12/28/2020\n",
        "TN_cases = np.array(states_df['TN confirmed'])[251:312]\n",
        "TX_cases = np.array(states_df['TX confirmed'])[251:312]"
      ],
      "execution_count": 852,
      "outputs": []
    },
    {
      "cell_type": "code",
      "metadata": {
        "id": "z7bakXctAw6z"
      },
      "source": [
        "#Obtaining the data for TN and TX confirmed cases on a daily basis dated from 10/1/2020 to 12/28/2020\n",
        "TN_deaths = np.array(states_df['TN deaths'])[251:312]\n",
        "TX_deaths = np.array(states_df['TX deaths'])[251:312]"
      ],
      "execution_count": 853,
      "outputs": []
    },
    {
      "cell_type": "markdown",
      "metadata": {
        "id": "AJxt4jYG21zs"
      },
      "source": [
        "**For TN confirmed cases and TX confirmed cases:**\n",
        "\n",
        "**Null hypothesis (H0):**\n",
        "\n",
        "Distribution of TN's daily confirmed cases equals distribution of TX's daily confirmed cases from Oct-Dec 2020.\n",
        "\n",
        "**Alternate hypothesis(H1):**\n",
        "\n",
        "Distribution of TN's daily confirmed cases not equals distribution of TX's daily confirmed cases from Oct-Dec 2020.\n",
        "\n",
        "\n"
      ]
    },
    {
      "cell_type": "markdown",
      "metadata": {
        "id": "1o5xBEr93PqS"
      },
      "source": [
        "**For TN deaths and TX deaths:**\n",
        "\n",
        "**Null hypothesis (H0):**\n",
        "\n",
        "Distribution of TN's daily deaths equals distribution of TX's daily deaths from Oct-Dec 2020.\n",
        "\n",
        "**Alternate hypothesis(H1):**\n",
        "\n",
        "Distribution of TN's daily deaths not equals distribution of TX's daily deaths from Oct-Dec 2020."
      ]
    },
    {
      "cell_type": "markdown",
      "metadata": {
        "id": "hygDdtrT6xe6"
      },
      "source": [
        "**PERMUTATION** **TEST**\n"
      ]
    },
    {
      "cell_type": "code",
      "metadata": {
        "id": "houc5WniuLPT"
      },
      "source": [
        "def permutation_test(TN, TX):\n",
        "\n",
        "  c = 0.05\n",
        "\n",
        "  def permutation_sample(data1, data2):\n",
        "      data = np.concatenate((data1, data2))   \n",
        "      permuted_data = np.random.permutation(data)   \n",
        "      perm_sample_1 = permuted_data[:len(data1)]\n",
        "      perm_sample_2 = permuted_data[len(data1):]   \n",
        "      return perm_sample_1, perm_sample_2\n",
        "\n",
        "  def draw_perm_reps(data_1, data_2, size):\n",
        "      perm_replicates = np.empty(size)    \n",
        "      for i in range(size):\n",
        "          perm_sample_1, perm_sample_2 = permutation_sample(data_1, data_2)        \n",
        "          perm_replicates[i] = abs(np.mean(perm_sample_1) - np.mean(perm_sample_2))    \n",
        "      return perm_replicates\n",
        "\n",
        "\n",
        "  T_obs_b = abs(np.mean(TN) - np.mean(TX))\n",
        "  T_obs_b\n",
        "\n",
        "  print(\"T-Observed is:\", T_obs_b)\n",
        "\n",
        "  #Using 1000 permutations\n",
        "  for n in [1000]:\n",
        "      perm_replicates = draw_perm_reps(TN,TX,n)\n",
        "      p_b = np.sum(perm_replicates >= T_obs_b)/len(perm_replicates)\n",
        "      print(\"n:\",n,\" p-value is:\", p_b)\n",
        "      \n",
        "\n",
        "  if(p_b <= c):\n",
        "          print(\"Hence, we REJECT the Null Hypothesis\")\n",
        "  else:\n",
        "          print(\"Hence, we ACCEPT the Null Hypothesis\")        \n"
      ],
      "execution_count": 854,
      "outputs": []
    },
    {
      "cell_type": "markdown",
      "metadata": {
        "id": "cyORWfHCNcoc"
      },
      "source": [
        "**Permutation Test - TN confirmed cases and TX confirmed cases**"
      ]
    },
    {
      "cell_type": "code",
      "metadata": {
        "colab": {
          "base_uri": "https://localhost:8080/"
        },
        "id": "xk4AqZKr59cS",
        "outputId": "b3a07441-e933-448a-ca3b-43f58d102775"
      },
      "source": [
        "permutation_test(TN_cases,TX_cases)"
      ],
      "execution_count": 855,
      "outputs": [
        {
          "output_type": "stream",
          "text": [
            "T-Observed is: 4556.377049180328\n",
            "n: 1000  p-value is: 0.0\n",
            "Hence, we REJECT the Null Hypothesis\n"
          ],
          "name": "stdout"
        }
      ]
    },
    {
      "cell_type": "markdown",
      "metadata": {
        "id": "-Rnuvj6xOF2L"
      },
      "source": [
        "*Since the obtained p-value is less than the threshold value of 0.05, we REJECT the Null Hypothesis.*"
      ]
    },
    {
      "cell_type": "markdown",
      "metadata": {
        "id": "0L9NHXzi5Ria"
      },
      "source": [
        "**Permutation Test - TN confirmed deaths and TX confirmed deaths**"
      ]
    },
    {
      "cell_type": "code",
      "metadata": {
        "colab": {
          "base_uri": "https://localhost:8080/"
        },
        "id": "CuFD_TEP5XgH",
        "outputId": "6ee783c9-c54b-4e75-e313-7a8e03548fe1"
      },
      "source": [
        "permutation_test(TN_deaths,TX_deaths)"
      ],
      "execution_count": 856,
      "outputs": [
        {
          "output_type": "stream",
          "text": [
            "T-Observed is: 66.19672131147541\n",
            "n: 1000  p-value is: 0.0\n",
            "Hence, we REJECT the Null Hypothesis\n"
          ],
          "name": "stdout"
        }
      ]
    },
    {
      "cell_type": "markdown",
      "metadata": {
        "id": "ifRarqeROh1H"
      },
      "source": [
        "*Since the obtained p-value is less than the threshold value of 0.05, we REJECT the Null Hypothesis.*"
      ]
    },
    {
      "cell_type": "markdown",
      "metadata": {
        "id": "C7Tbaeie8a6w"
      },
      "source": [
        "**2 SAMPLE K-S TEST**"
      ]
    },
    {
      "cell_type": "code",
      "metadata": {
        "id": "_x85imkU8fDN"
      },
      "source": [
        "# Getting the e-CDF\n",
        "def eCDF(A):\n",
        "    n = len(A)\n",
        "    Sort = sorted(A)\n",
        "    delta = .1\n",
        "    A = []\n",
        "    B = [0]\n",
        "    for i in range(0,n):\n",
        "        A = A + [Sort[i]]\n",
        "        B = B + [B[len(B)-1]+(1/n)]\n",
        "    B = B + [1]\n",
        "        \n",
        "    return A,B"
      ],
      "execution_count": 857,
      "outputs": []
    },
    {
      "cell_type": "code",
      "metadata": {
        "id": "6JeU-3-59yNv"
      },
      "source": [
        "def KS_2_sample(A1,B1, A2,B2):\n",
        "    matrix = np.zeros((len(A1),6))\n",
        "    max_total = -1\n",
        "    for i in range(len(matrix)):\n",
        "        matrix[i,0] = B1[i]\n",
        "        matrix[i,1] = B1[i+1]\n",
        "        index1 = [idx for idx, val in enumerate(A2) if val >= A1[i]]\n",
        "        index2 = [idx for idx, val in enumerate(A2) if val < A1[i]]\n",
        "        if index1 == []:\n",
        "            matrix[i,3] = 1\n",
        "        else :    \n",
        "            matrix[i,3] = Y2[index1[0]]\n",
        "        if index2 == []:\n",
        "            matrix[i,2] = 0\n",
        "        else:\n",
        "            matrix[i,2] = Y2[index2[-1]]\n",
        "        \n",
        "        matrix[i,4] = abs( matrix[i,0] - matrix[i,2])\n",
        "        matrix[i,5] = abs(matrix[i,1] - matrix[i,3])\n",
        "        cmax = max(matrix[i,4], matrix[i,5])\n",
        "        if cmax > max_total:\n",
        "            max_total = cmax\n",
        "            a1_max = A1[i]\n",
        "            a1_max = matrix[i,0]\n",
        "            y2_max = matrix[i,2]\n",
        "    \n",
        "    return max_total"
      ],
      "execution_count": 858,
      "outputs": []
    },
    {
      "cell_type": "markdown",
      "metadata": {
        "id": "RIZzr08TBkKB"
      },
      "source": [
        "**2 Sample K-S Test - TN confirmed cases and TX confirmed cases**"
      ]
    },
    {
      "cell_type": "code",
      "metadata": {
        "colab": {
          "base_uri": "https://localhost:8080/"
        },
        "id": "Ok4XiD8_9KdU",
        "outputId": "de337f4a-9906-45b1-e367-6dc2c357f5c5"
      },
      "source": [
        "TN_cases = np.array(states_df['TN confirmed'])[251:312]\n",
        "TX_cases = np.array(states_df['TX confirmed'])[251:312]\n",
        "\n",
        "#Computing eCDF for TN confirmed cases and TX confirmed cases\n",
        "A1, B1 = eCDF(TN_cases)\n",
        "A2, B2 = eCDF(TX_cases)\n",
        "\n",
        "KS_val = KS_2_sample(A1,B1, A2,B2)\n",
        "\n",
        "print('KS statistic : ', KS_val)\n",
        "\n",
        "c=0.05\n",
        "\n",
        "if(KS_val > c):\n",
        "\n",
        "  print(\"Hence, we REJECT the Null Hypothesis\")\n",
        "else:\n",
        "  print(\"Hence, we ACCEPT the Null Hypothesis\")  "
      ],
      "execution_count": 859,
      "outputs": [
        {
          "output_type": "stream",
          "text": [
            "KS statistic :  0.7049180327868858\n",
            "Hence, we REJECT the Null Hypothesis\n"
          ],
          "name": "stdout"
        }
      ]
    },
    {
      "cell_type": "markdown",
      "metadata": {
        "id": "2RHhJMq43exC"
      },
      "source": [
        "*Since the obtained KS statistic value is greater than the critical value of 0.05, we REJECT the Null Hypothesis.*"
      ]
    },
    {
      "cell_type": "markdown",
      "metadata": {
        "id": "gq-j167IB1iO"
      },
      "source": [
        "**2 Sample K-S Test - TN deaths and TX deaths**"
      ]
    },
    {
      "cell_type": "code",
      "metadata": {
        "colab": {
          "base_uri": "https://localhost:8080/"
        },
        "id": "Y1Pdvlam9ZCw",
        "outputId": "9d7d0c4c-590a-4772-8f99-1813e6c9daf9"
      },
      "source": [
        "TN_deaths = np.array(states_df['TN deaths'])[251:312]\n",
        "TX_deaths = np.array(states_df['TX deaths'])[251:312]\n",
        "\n",
        "#Computing eCDF for TN deaths and TX deaths\n",
        "A1, B1 = eCDF(TN_deaths)\n",
        "A2, B2 = eCDF(TX_deaths)\n",
        "\n",
        "KS_val = KS_2_sample(A1,B1, A2,B2)\n",
        "\n",
        "print('KS statistic : ', KS_val)\n",
        "\n",
        "c=0.05\n",
        "\n",
        "if(KS_val > c):\n",
        "\n",
        "  print(\"Hence, we REJECT the Null Hypothesis\")\n",
        "else:\n",
        "  print(\"Hence, we ACCEPT the Null Hypothesis\")  "
      ],
      "execution_count": 860,
      "outputs": [
        {
          "output_type": "stream",
          "text": [
            "KS statistic :  0.6557377049180335\n",
            "Hence, we REJECT the Null Hypothesis\n"
          ],
          "name": "stdout"
        }
      ]
    },
    {
      "cell_type": "markdown",
      "metadata": {
        "id": "v4ceDzMl6DP2"
      },
      "source": [
        "*Since the obtained KS statistic value is greater than the critical value of 0.05, we REJECT the Null Hypothesis.*"
      ]
    },
    {
      "cell_type": "markdown",
      "metadata": {
        "id": "YrA1LjNxCJC7"
      },
      "source": [
        "**1 SAMPLE K-S TEST**"
      ]
    },
    {
      "cell_type": "code",
      "metadata": {
        "id": "XnJZArZcCp1J"
      },
      "source": [
        "def KS_1_sample(A1,B1, CDF, parameter):\n",
        "    max_total = -1\n",
        "        \n",
        "    matrix = np.zeros((len(A1),4))\n",
        "    for i in range(len(matrix)):\n",
        "        matrix[i,0] = B1[i]\n",
        "        matrix[i,1] = B1[i+1]\n",
        "        Fx = CDF(parameter, A1[i])\n",
        "        matrix[i,2] = abs(matrix[i,0] - Fx)\n",
        "        matrix[i,3] = abs(matrix[i,1] - Fx)\n",
        "        cmax = max(matrix[i,2], matrix[i,3])\n",
        "        if cmax > max_total:\n",
        "            max_total = cmax\n",
        "        \n",
        "        \n",
        "    return max_total"
      ],
      "execution_count": 861,
      "outputs": []
    },
    {
      "cell_type": "code",
      "metadata": {
        "id": "3Vn99Ev59oMC"
      },
      "source": [
        "# Obtaining eCDF for TX confirmed cases\n",
        "test_A, test_B = eCDF(TX_cases)"
      ],
      "execution_count": 862,
      "outputs": []
    },
    {
      "cell_type": "code",
      "metadata": {
        "id": "gPR_L-4G9tdS"
      },
      "source": [
        "# Obtaining eCDF for TX deaths\n",
        "test_P, test_Q = eCDF(TX_deaths)"
      ],
      "execution_count": 863,
      "outputs": []
    },
    {
      "cell_type": "markdown",
      "metadata": {
        "id": "sQQVHvp7GogO"
      },
      "source": [
        "**1 SAMPLE K-S TEST - POISSON DISTRIBUTION**\n",
        "\n"
      ]
    },
    {
      "cell_type": "markdown",
      "metadata": {
        "id": "G21wQDJKGC-o"
      },
      "source": [
        "Obtaining parameters for Poisson distribution "
      ]
    },
    {
      "cell_type": "code",
      "metadata": {
        "id": "xx7ImUSRDxWa"
      },
      "source": [
        "def Poisson_MME(X):\n",
        "    poiss_mme = np.mean(X)\n",
        "    return poiss_mme\n",
        "\n",
        "def Poisson_CDF(lambda_, x):\n",
        "    poiss_cdf = poisson.cdf(x, lambda_)\n",
        "    return poiss_cdf"
      ],
      "execution_count": 864,
      "outputs": []
    },
    {
      "cell_type": "markdown",
      "metadata": {
        "id": "aqUgcqErFEtE"
      },
      "source": [
        "**TN confirmed cases and TX confirmed cases**\n",
        "\n"
      ]
    },
    {
      "cell_type": "code",
      "metadata": {
        "colab": {
          "base_uri": "https://localhost:8080/"
        },
        "id": "LwHMD78wD2jL",
        "outputId": "69bb8659-7245-49ce-9011-a024d5d360a1"
      },
      "source": [
        "# Obtaining MME parametersfor TN confirmed cases\n",
        "MME_TNconfirmedcases = Poisson_MME(TN_cases)\n",
        "print('Poisson parameter(lambda) : ', MME_TNconfirmedcases)\n",
        "\n",
        "# 1 sample KS-test on TX confirmed cases\n",
        "\n",
        "KS_val = KS_1_sample(test_A, test_B, Poisson_CDF, MME_TNconfirmedcases )\n",
        "\n",
        "print('KS statistic : ', KS_val)\n",
        "\n",
        "c=0.05\n",
        "\n",
        "if(KS_val > c):\n",
        "\n",
        "  print(\"Hence, we REJECT the Null Hypothesis\")\n",
        "else:\n",
        "  print(\"Hence, we ACCEPT the Null Hypothesis\")  "
      ],
      "execution_count": 865,
      "outputs": [
        {
          "output_type": "stream",
          "text": [
            "Poisson parameter(lambda) :  2664.27868852459\n",
            "KS statistic :  0.9344262295080024\n",
            "Hence, we REJECT the Null Hypothesis\n"
          ],
          "name": "stdout"
        }
      ]
    },
    {
      "cell_type": "markdown",
      "metadata": {
        "id": "4yvna7Fp6Wm1"
      },
      "source": [
        "*Since the obtained KS statistic value is greater than the critical value of 0.05, we REJECT the Null Hypothesis.*"
      ]
    },
    {
      "cell_type": "markdown",
      "metadata": {
        "id": "pW_6i4K-GXOZ"
      },
      "source": [
        "**TN deaths and TX deaths**"
      ]
    },
    {
      "cell_type": "code",
      "metadata": {
        "colab": {
          "base_uri": "https://localhost:8080/"
        },
        "id": "4UQPXNjFGbdJ",
        "outputId": "2cef20e9-b9b1-402d-aa98-2aef494fbfdf"
      },
      "source": [
        "# Obtaining MME parameters for TN deaths\n",
        "MME_TNdeaths = Poisson_MME(TN_deaths)\n",
        "print('Poisson parameter(lambda) : ', MME_TNdeaths)\n",
        "\n",
        "# 1 sample KS-test on TX deaths\n",
        "\n",
        "KS_val = KS_1_sample(test_P, test_Q, Poisson_CDF, MME_TNdeaths )\n",
        "\n",
        "print('KS statistic : ', KS_val)\n",
        "\n",
        "c=0.05\n",
        "\n",
        "if(KS_val > c):\n",
        "\n",
        "  print(\"Hence, we REJECT the Null Hypothesis\")\n",
        "else:\n",
        "  print(\"Hence, we ACCEPT the Null Hypothesis\")  "
      ],
      "execution_count": 866,
      "outputs": [
        {
          "output_type": "stream",
          "text": [
            "Poisson parameter(lambda) :  35.49180327868852\n",
            "KS statistic :  0.7851347244191668\n",
            "Hence, we REJECT the Null Hypothesis\n"
          ],
          "name": "stdout"
        }
      ]
    },
    {
      "cell_type": "markdown",
      "metadata": {
        "id": "ZDUJjdvQ6a0V"
      },
      "source": [
        "*Since the obtained KS statistic value is greater than the critical value of 0.05, we REJECT the Null Hypothesis.*"
      ]
    },
    {
      "cell_type": "markdown",
      "metadata": {
        "id": "5mJwWZxvGxDJ"
      },
      "source": [
        "**1 SAMPLE K-S TEST - BINOMIAL DISTRIBUTION**\n",
        "\n"
      ]
    },
    {
      "cell_type": "markdown",
      "metadata": {
        "id": "oRfNrOfwG9BZ"
      },
      "source": [
        "Obtaining parameters for Binomial distribution\n",
        "\n"
      ]
    },
    {
      "cell_type": "code",
      "metadata": {
        "id": "nikSl2_sHL8T"
      },
      "source": [
        "def Binomial_param(X):\n",
        "    mean = np.mean(X)\n",
        "    n_estimate = np.square(mean)/(mean-np.var(X))\n",
        "    p_estimate = mean/n_estimate\n",
        "    return n_estimate,p_estimate\n",
        "\n",
        "def Binomial_CDF(params,x):\n",
        "    prob = binom.cdf(x, params[0], params[1])\n",
        "    return prob"
      ],
      "execution_count": 867,
      "outputs": []
    },
    {
      "cell_type": "markdown",
      "metadata": {
        "id": "xl1lzv6iHUrm"
      },
      "source": [
        "**TN confirmed cases and TX confirmed cases**\n",
        "\n"
      ]
    },
    {
      "cell_type": "code",
      "metadata": {
        "colab": {
          "base_uri": "https://localhost:8080/"
        },
        "id": "8spm7DTtHVur",
        "outputId": "88edbffb-dae7-4372-a364-f694be9b552a"
      },
      "source": [
        "# Obtaining MME parameters for TN confirmed cases\n",
        "n,p = Binomial_param(TN_cases)\n",
        "\n",
        "print('Parameters of Binomial Distribution (n,p) : ', n,p)\n",
        "\n",
        "# 1 sample KS-test on TX confirmed cases\n",
        "KS_val = KS_1_sample(test_A, test_B, Binomial_CDF, [n,p] )\n",
        "\n",
        "print('KS statistic : ', KS_val)\n",
        "\n",
        "c=0.05\n",
        "\n",
        "if(KS_val > c):\n",
        "\n",
        "  print(\"Hence, we REJECT the Null Hypothesis\")\n",
        "else:\n",
        "  print(\"Hence, we ACCEPT the Null Hypothesis\")  "
      ],
      "execution_count": 868,
      "outputs": [
        {
          "output_type": "stream",
          "text": [
            "Parameters of Binomial Distribution (n,p) :  -4.833191310504729 -551.2462713267521\n",
            "KS statistic :  1.0\n",
            "Hence, we REJECT the Null Hypothesis\n"
          ],
          "name": "stdout"
        }
      ]
    },
    {
      "cell_type": "markdown",
      "metadata": {
        "id": "LBiYWkNh6dqO"
      },
      "source": [
        "*Since the obtained KS statistic value is greater than the critical value of 0.05, we REJECT the Null Hypothesis.*"
      ]
    },
    {
      "cell_type": "markdown",
      "metadata": {
        "id": "G63FiCwxHyc0"
      },
      "source": [
        "**TN deaths and TX deaths**\n"
      ]
    },
    {
      "cell_type": "code",
      "metadata": {
        "colab": {
          "base_uri": "https://localhost:8080/"
        },
        "id": "PYpU9SriIBFb",
        "outputId": "a9301fc2-2e04-4b76-9c4b-9ea4d3d32924"
      },
      "source": [
        "# Obtaining MME parameters for TN deaths\n",
        "\n",
        "n,p = Binomial_param(TN_deaths)\n",
        "\n",
        "print('Parameters of Binomial Distribution (n,p) : ', n,p)\n",
        "\n",
        "# 1 sample KS-test on TX deaths\n",
        "KS_val = KS_1_sample(test_P, test_Q, Binomial_CDF, [n,p] )\n",
        "\n",
        "print('KS statistic : ', KS_val)\n",
        "\n",
        "c=0.05\n",
        "\n",
        "if(KS_val > c):\n",
        "\n",
        "  print(\"Hence, we REJECT the Null Hypothesis\")\n",
        "else:\n",
        "  print(\"Hence, we ACCEPT the Null Hypothesis\")  "
      ],
      "execution_count": 869,
      "outputs": [
        {
          "output_type": "stream",
          "text": [
            "Parameters of Binomial Distribution (n,p) :  -2.675828670695916 -13.263854919925794\n",
            "KS statistic :  1.0\n",
            "Hence, we REJECT the Null Hypothesis\n"
          ],
          "name": "stdout"
        }
      ]
    },
    {
      "cell_type": "markdown",
      "metadata": {
        "id": "g2AB1qqc6ffP"
      },
      "source": [
        "*Since the obtained KS statistic value is greater than the critical value of 0.05, we REJECT the Null Hypothesis.*"
      ]
    },
    {
      "cell_type": "markdown",
      "metadata": {
        "id": "OHJNPLRfITy6"
      },
      "source": [
        "**1 SAMPLE K-S TEST - GEOMETRIC DISTRIBUTION**"
      ]
    },
    {
      "cell_type": "markdown",
      "metadata": {
        "id": "RCjxIQk5IbiZ"
      },
      "source": [
        "Obtaining parameters for Geometric distribution"
      ]
    },
    {
      "cell_type": "code",
      "metadata": {
        "id": "tbWHA9hyIc5w"
      },
      "source": [
        "def Geometric_MME(X):\n",
        "    sample_mean = np.mean(X)\n",
        "    geo_mme = 1/sample_mean    \n",
        "    return geo_mme\n",
        "\n",
        "def Geometric_CDF(p,x):\n",
        "    geo_cdf = geom.cdf(x, p)\n",
        "    return geo_cdf"
      ],
      "execution_count": 870,
      "outputs": []
    },
    {
      "cell_type": "markdown",
      "metadata": {
        "id": "nBjwkl5XIpEQ"
      },
      "source": [
        "**TN confirmed cases and TX confirmed cases**"
      ]
    },
    {
      "cell_type": "code",
      "metadata": {
        "colab": {
          "base_uri": "https://localhost:8080/"
        },
        "id": "gmRkiYgjI0SC",
        "outputId": "c262f667-a653-44d3-b01d-4966d2fd77a0"
      },
      "source": [
        "# Obtaining MME parameters for TN confirmed cases\n",
        "\n",
        "p = Geometric_MME(TN_cases)\n",
        "\n",
        "print('Geometric parameter : ', p)\n",
        "\n",
        "# 1 sample KS-test on TX confirmed cases\n",
        "KS_val = KS_1_sample(test_A, test_B, Geometric_CDF, p )\n",
        "\n",
        "print('KS statistic : ', KS_val)\n",
        "\n",
        "c=0.05\n",
        "\n",
        "if(KS_val > c):\n",
        "\n",
        "  print(\"Hence, we REJECT the Null Hypothesis\")\n",
        "else:\n",
        "  print(\"Hence, we ACCEPT the Null Hypothesis\")  "
      ],
      "execution_count": 871,
      "outputs": [
        {
          "output_type": "stream",
          "text": [
            "Geometric parameter :  0.000375336110410347\n",
            "KS statistic :  0.6395840847515362\n",
            "Hence, we REJECT the Null Hypothesis\n"
          ],
          "name": "stdout"
        }
      ]
    },
    {
      "cell_type": "markdown",
      "metadata": {
        "id": "BnIdjS8q6h9I"
      },
      "source": [
        "*Since the obtained KS statistic value is greater than the critical value of 0.05, we REJECT the Null Hypothesis.*"
      ]
    },
    {
      "cell_type": "markdown",
      "metadata": {
        "id": "WL34rXQFJDlt"
      },
      "source": [
        "**TN deaths and TX deaths**"
      ]
    },
    {
      "cell_type": "code",
      "metadata": {
        "colab": {
          "base_uri": "https://localhost:8080/"
        },
        "id": "W2AVeS8pJH9q",
        "outputId": "da8fa0c5-3ac2-4efe-91f3-0beb5fdf066f"
      },
      "source": [
        "# Obtaining MME parameters for TN deaths\n",
        "\n",
        "p = Geometric_MME(TN_deaths)\n",
        "\n",
        "print('Geometric parameter : ', p)\n",
        "\n",
        "# 1 sample KS-test on TX deaths\n",
        "KS_val = KS_1_sample(test_P, test_Q, Geometric_CDF, p )\n",
        "\n",
        "print('KS statistic : ', KS_val)\n",
        "\n",
        "c=0.05\n",
        "\n",
        "if(KS_val > c):\n",
        "\n",
        "  print(\"Hence, we REJECT the Null Hypothesis\")\n",
        "else:\n",
        "  print(\"Hence, we ACCEPT the Null Hypothesis\")  "
      ],
      "execution_count": 872,
      "outputs": [
        {
          "output_type": "stream",
          "text": [
            "Geometric parameter :  0.02817551963048499\n",
            "KS statistic :  0.5645215235717812\n",
            "Hence, we REJECT the Null Hypothesis\n"
          ],
          "name": "stdout"
        }
      ]
    },
    {
      "cell_type": "markdown",
      "metadata": {
        "id": "oPvDhzp66j5N"
      },
      "source": [
        "*Since the obtained KS statistic value is greater than the critical value of 0.05, we REJECT the Null Hypothesis.*"
      ]
    }
  ]
}
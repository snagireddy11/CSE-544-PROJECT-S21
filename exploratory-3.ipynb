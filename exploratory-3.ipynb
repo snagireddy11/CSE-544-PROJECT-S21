{
 "cells": [
  {
   "cell_type": "markdown",
   "metadata": {},
   "source": [
    "# Exploratory Task 3\n"
   ]
  },
  {
   "cell_type": "markdown",
   "metadata": {},
   "source": [
    "In this task, we are initially checking for missing/null values in the US-All datasets and the X dataset. \n",
    "\n",
    "There is a date format difference between US-All datasets and our X (Homelessness) dataset. \n",
    "Our X dataset had the format mm/dd/yyyy whereas the US-All dataset has yyyy-mm-dd. We have converted X dataset format to yyyy-mm-dd.\n"
   ]
  },
  {
   "cell_type": "code",
   "execution_count": 1,
   "metadata": {},
   "outputs": [],
   "source": [
    "import pandas as pd\n",
    "import seaborn as sns"
   ]
  },
  {
   "cell_type": "code",
   "execution_count": 2,
   "metadata": {},
   "outputs": [],
   "source": [
    "us_confirmed = pd.read_csv(\"US-all/US_confirmed.csv\")\n",
    "us_deaths = pd.read_csv(\"US-all/US_deaths.csv\")\n",
    "homelessness = pd.read_csv(\"US-all/DHS_Daily_Report.csv\")"
   ]
  },
  {
   "cell_type": "code",
   "execution_count": 3,
   "metadata": {
    "scrolled": true
   },
   "outputs": [
    {
     "name": "stdout",
     "output_type": "stream",
     "text": [
      "False\n",
      "False\n",
      "False\n"
     ]
    }
   ],
   "source": [
    "print(us_confirmed.isnull().values.any())\n",
    "print(us_deaths.isnull().values.any())\n",
    "print(homeless.isnull().values.any())"
   ]
  },
  {
   "cell_type": "code",
   "execution_count": 4,
   "metadata": {},
   "outputs": [],
   "source": [
    "homeless['Date of Census'] = pd.to_datetime(homeless['Date of Census'])"
   ]
  },
  {
   "cell_type": "code",
   "execution_count": 5,
   "metadata": {},
   "outputs": [],
   "source": [
    "homeless.sort_values(by=['Date of Census'], inplace=True, ascending=False)"
   ]
  },
  {
   "cell_type": "code",
   "execution_count": 6,
   "metadata": {},
   "outputs": [
    {
     "data": {
      "text/html": [
       "<div>\n",
       "<style scoped>\n",
       "    .dataframe tbody tr th:only-of-type {\n",
       "        vertical-align: middle;\n",
       "    }\n",
       "\n",
       "    .dataframe tbody tr th {\n",
       "        vertical-align: top;\n",
       "    }\n",
       "\n",
       "    .dataframe thead th {\n",
       "        text-align: right;\n",
       "    }\n",
       "</style>\n",
       "<table border=\"1\" class=\"dataframe\">\n",
       "  <thead>\n",
       "    <tr style=\"text-align: right;\">\n",
       "      <th></th>\n",
       "      <th>Date of Census</th>\n",
       "      <th>Total Adults in Shelter</th>\n",
       "      <th>Total Children in Shelter</th>\n",
       "      <th>Total Individuals in Shelter</th>\n",
       "      <th>Single Adult Men in Shelter</th>\n",
       "      <th>Single Adult Women in Shelter</th>\n",
       "      <th>Total Single Adults in Shelter</th>\n",
       "      <th>Families with Children in Shelter</th>\n",
       "      <th>Adults in Families with Children in Shelter</th>\n",
       "      <th>Children in Families with Children in Shelter</th>\n",
       "      <th>Total Individuals in Families with Children in Shelter</th>\n",
       "      <th>Adult Families in Shelter</th>\n",
       "      <th>Individuals in Adult Families in Shelter</th>\n",
       "    </tr>\n",
       "  </thead>\n",
       "  <tbody>\n",
       "    <tr>\n",
       "      <th>2792</th>\n",
       "      <td>2021-05-10</td>\n",
       "      <td>33430</td>\n",
       "      <td>15504</td>\n",
       "      <td>48934</td>\n",
       "      <td>13565</td>\n",
       "      <td>4361</td>\n",
       "      <td>17926</td>\n",
       "      <td>8920</td>\n",
       "      <td>11728</td>\n",
       "      <td>15504</td>\n",
       "      <td>27232</td>\n",
       "      <td>1795</td>\n",
       "      <td>3776</td>\n",
       "    </tr>\n",
       "    <tr>\n",
       "      <th>2791</th>\n",
       "      <td>2021-05-09</td>\n",
       "      <td>33565</td>\n",
       "      <td>15619</td>\n",
       "      <td>49184</td>\n",
       "      <td>13614</td>\n",
       "      <td>4346</td>\n",
       "      <td>17960</td>\n",
       "      <td>8981</td>\n",
       "      <td>11814</td>\n",
       "      <td>15619</td>\n",
       "      <td>27433</td>\n",
       "      <td>1802</td>\n",
       "      <td>3791</td>\n",
       "    </tr>\n",
       "    <tr>\n",
       "      <th>2790</th>\n",
       "      <td>2021-05-08</td>\n",
       "      <td>33466</td>\n",
       "      <td>15630</td>\n",
       "      <td>49096</td>\n",
       "      <td>13479</td>\n",
       "      <td>4360</td>\n",
       "      <td>17839</td>\n",
       "      <td>8994</td>\n",
       "      <td>11833</td>\n",
       "      <td>15630</td>\n",
       "      <td>27463</td>\n",
       "      <td>1804</td>\n",
       "      <td>3794</td>\n",
       "    </tr>\n",
       "    <tr>\n",
       "      <th>2789</th>\n",
       "      <td>2021-05-07</td>\n",
       "      <td>33511</td>\n",
       "      <td>15606</td>\n",
       "      <td>49117</td>\n",
       "      <td>13490</td>\n",
       "      <td>4377</td>\n",
       "      <td>17867</td>\n",
       "      <td>8999</td>\n",
       "      <td>11844</td>\n",
       "      <td>15606</td>\n",
       "      <td>27450</td>\n",
       "      <td>1807</td>\n",
       "      <td>3800</td>\n",
       "    </tr>\n",
       "    <tr>\n",
       "      <th>2788</th>\n",
       "      <td>2021-05-06</td>\n",
       "      <td>33560</td>\n",
       "      <td>15587</td>\n",
       "      <td>49147</td>\n",
       "      <td>13551</td>\n",
       "      <td>4389</td>\n",
       "      <td>17940</td>\n",
       "      <td>8985</td>\n",
       "      <td>11828</td>\n",
       "      <td>15587</td>\n",
       "      <td>27415</td>\n",
       "      <td>1803</td>\n",
       "      <td>3792</td>\n",
       "    </tr>\n",
       "  </tbody>\n",
       "</table>\n",
       "</div>"
      ],
      "text/plain": [
       "     Date of Census  Total Adults in Shelter  Total Children in Shelter  \\\n",
       "2792     2021-05-10                    33430                      15504   \n",
       "2791     2021-05-09                    33565                      15619   \n",
       "2790     2021-05-08                    33466                      15630   \n",
       "2789     2021-05-07                    33511                      15606   \n",
       "2788     2021-05-06                    33560                      15587   \n",
       "\n",
       "      Total Individuals in Shelter  Single Adult Men in Shelter  \\\n",
       "2792                         48934                        13565   \n",
       "2791                         49184                        13614   \n",
       "2790                         49096                        13479   \n",
       "2789                         49117                        13490   \n",
       "2788                         49147                        13551   \n",
       "\n",
       "      Single Adult Women in Shelter  Total Single Adults in Shelter  \\\n",
       "2792                           4361                           17926   \n",
       "2791                           4346                           17960   \n",
       "2790                           4360                           17839   \n",
       "2789                           4377                           17867   \n",
       "2788                           4389                           17940   \n",
       "\n",
       "      Families with Children in Shelter  \\\n",
       "2792                               8920   \n",
       "2791                               8981   \n",
       "2790                               8994   \n",
       "2789                               8999   \n",
       "2788                               8985   \n",
       "\n",
       "      Adults in Families with Children in Shelter  \\\n",
       "2792                                        11728   \n",
       "2791                                        11814   \n",
       "2790                                        11833   \n",
       "2789                                        11844   \n",
       "2788                                        11828   \n",
       "\n",
       "      Children in Families with Children in Shelter  \\\n",
       "2792                                          15504   \n",
       "2791                                          15619   \n",
       "2790                                          15630   \n",
       "2789                                          15606   \n",
       "2788                                          15587   \n",
       "\n",
       "      Total Individuals in Families with Children in Shelter   \\\n",
       "2792                                              27232         \n",
       "2791                                              27433         \n",
       "2790                                              27463         \n",
       "2789                                              27450         \n",
       "2788                                              27415         \n",
       "\n",
       "      Adult Families in Shelter  Individuals in Adult Families in Shelter  \n",
       "2792                       1795                                      3776  \n",
       "2791                       1802                                      3791  \n",
       "2790                       1804                                      3794  \n",
       "2789                       1807                                      3800  \n",
       "2788                       1803                                      3792  "
      ]
     },
     "execution_count": 6,
     "metadata": {},
     "output_type": "execute_result"
    }
   ],
   "source": [
    "homeless.head()"
   ]
  },
  {
   "cell_type": "code",
   "execution_count": null,
   "metadata": {},
   "outputs": [],
   "source": []
  }
 ],
 "metadata": {
  "kernelspec": {
   "display_name": "Python 3",
   "language": "python",
   "name": "python3"
  },
  "language_info": {
   "codemirror_mode": {
    "name": "ipython",
    "version": 3
   },
   "file_extension": ".py",
   "mimetype": "text/x-python",
   "name": "python",
   "nbconvert_exporter": "python",
   "pygments_lexer": "ipython3",
   "version": "3.8.5"
  }
 },
 "nbformat": 4,
 "nbformat_minor": 4
}

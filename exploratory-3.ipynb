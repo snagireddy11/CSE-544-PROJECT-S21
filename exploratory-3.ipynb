{
 "cells": [
  {
   "cell_type": "markdown",
   "metadata": {},
   "source": [
    "# Exploratory Task 3\n"
   ]
  },
  {
   "cell_type": "markdown",
   "metadata": {},
   "source": [
    "In this task, we are initially checking for missing/null values in the US-All datasets and the X dataset. \n",
    "\n",
    "There is a date format difference between US-All datasets and our X (Homelessness) dataset. \n",
    "Our X dataset had the format mm/dd/yyyy whereas the US-All dataset has yyyy-mm-dd. We have converted X dataset format to yyyy-mm-dd.\n"
   ]
  },
  {
   "cell_type": "code",
   "execution_count": 1,
   "metadata": {},
   "outputs": [],
   "source": [
    "import pandas as pd\n",
    "import seaborn as sns\n",
    "import numpy as np\n",
    "import matplotlib.pyplot as plt"
   ]
  },
  {
   "cell_type": "code",
   "execution_count": 2,
   "metadata": {},
   "outputs": [],
   "source": [
    "us_confirmed = pd.read_csv(\"US-all/US_confirmed.csv\")\n",
    "us_deaths = pd.read_csv(\"US-all/US_deaths.csv\")\n",
    "homeless = pd.read_csv(\"US-all/DHS_Daily_Report.csv\")"
   ]
  },
  {
   "cell_type": "code",
   "execution_count": 3,
   "metadata": {
    "scrolled": true
   },
   "outputs": [
    {
     "name": "stdout",
     "output_type": "stream",
     "text": [
      "False\n",
      "False\n",
      "False\n"
     ]
    }
   ],
   "source": [
    "#Checking for null values in dataset\n",
    "\n",
    "print(us_confirmed.isnull().values.any())\n",
    "print(us_deaths.isnull().values.any())\n",
    "print(homeless.isnull().values.any())"
   ]
  },
  {
   "cell_type": "markdown",
   "metadata": {},
   "source": [
    "There are **no missing values** in any of the datasets."
   ]
  },
  {
   "cell_type": "code",
   "execution_count": 4,
   "metadata": {},
   "outputs": [],
   "source": [
    "#Converting date in homeless dataset to consistent format - yyyy-mm-dd, and sorting it in descending order\n",
    "\n",
    "homeless['Date of Census'] = pd.to_datetime(homeless['Date of Census'])\n",
    "homeless.sort_values(by=['Date of Census'], inplace=True, ascending=False)"
   ]
  },
  {
   "cell_type": "code",
   "execution_count": 5,
   "metadata": {},
   "outputs": [
    {
     "data": {
      "text/html": [
       "<div>\n",
       "<style scoped>\n",
       "    .dataframe tbody tr th:only-of-type {\n",
       "        vertical-align: middle;\n",
       "    }\n",
       "\n",
       "    .dataframe tbody tr th {\n",
       "        vertical-align: top;\n",
       "    }\n",
       "\n",
       "    .dataframe thead th {\n",
       "        text-align: right;\n",
       "    }\n",
       "</style>\n",
       "<table border=\"1\" class=\"dataframe\">\n",
       "  <thead>\n",
       "    <tr style=\"text-align: right;\">\n",
       "      <th></th>\n",
       "      <th>Date of Census</th>\n",
       "      <th>Total Adults in Shelter</th>\n",
       "      <th>Total Children in Shelter</th>\n",
       "      <th>Total Individuals in Shelter</th>\n",
       "      <th>Single Adult Men in Shelter</th>\n",
       "      <th>Single Adult Women in Shelter</th>\n",
       "      <th>Total Single Adults in Shelter</th>\n",
       "      <th>Families with Children in Shelter</th>\n",
       "      <th>Adults in Families with Children in Shelter</th>\n",
       "      <th>Children in Families with Children in Shelter</th>\n",
       "      <th>Total Individuals in Families with Children in Shelter</th>\n",
       "      <th>Adult Families in Shelter</th>\n",
       "      <th>Individuals in Adult Families in Shelter</th>\n",
       "    </tr>\n",
       "  </thead>\n",
       "  <tbody>\n",
       "    <tr>\n",
       "      <th>2792</th>\n",
       "      <td>2021-05-10</td>\n",
       "      <td>33430</td>\n",
       "      <td>15504</td>\n",
       "      <td>48934</td>\n",
       "      <td>13565</td>\n",
       "      <td>4361</td>\n",
       "      <td>17926</td>\n",
       "      <td>8920</td>\n",
       "      <td>11728</td>\n",
       "      <td>15504</td>\n",
       "      <td>27232</td>\n",
       "      <td>1795</td>\n",
       "      <td>3776</td>\n",
       "    </tr>\n",
       "    <tr>\n",
       "      <th>2791</th>\n",
       "      <td>2021-05-09</td>\n",
       "      <td>33565</td>\n",
       "      <td>15619</td>\n",
       "      <td>49184</td>\n",
       "      <td>13614</td>\n",
       "      <td>4346</td>\n",
       "      <td>17960</td>\n",
       "      <td>8981</td>\n",
       "      <td>11814</td>\n",
       "      <td>15619</td>\n",
       "      <td>27433</td>\n",
       "      <td>1802</td>\n",
       "      <td>3791</td>\n",
       "    </tr>\n",
       "    <tr>\n",
       "      <th>2790</th>\n",
       "      <td>2021-05-08</td>\n",
       "      <td>33466</td>\n",
       "      <td>15630</td>\n",
       "      <td>49096</td>\n",
       "      <td>13479</td>\n",
       "      <td>4360</td>\n",
       "      <td>17839</td>\n",
       "      <td>8994</td>\n",
       "      <td>11833</td>\n",
       "      <td>15630</td>\n",
       "      <td>27463</td>\n",
       "      <td>1804</td>\n",
       "      <td>3794</td>\n",
       "    </tr>\n",
       "    <tr>\n",
       "      <th>2789</th>\n",
       "      <td>2021-05-07</td>\n",
       "      <td>33511</td>\n",
       "      <td>15606</td>\n",
       "      <td>49117</td>\n",
       "      <td>13490</td>\n",
       "      <td>4377</td>\n",
       "      <td>17867</td>\n",
       "      <td>8999</td>\n",
       "      <td>11844</td>\n",
       "      <td>15606</td>\n",
       "      <td>27450</td>\n",
       "      <td>1807</td>\n",
       "      <td>3800</td>\n",
       "    </tr>\n",
       "    <tr>\n",
       "      <th>2788</th>\n",
       "      <td>2021-05-06</td>\n",
       "      <td>33560</td>\n",
       "      <td>15587</td>\n",
       "      <td>49147</td>\n",
       "      <td>13551</td>\n",
       "      <td>4389</td>\n",
       "      <td>17940</td>\n",
       "      <td>8985</td>\n",
       "      <td>11828</td>\n",
       "      <td>15587</td>\n",
       "      <td>27415</td>\n",
       "      <td>1803</td>\n",
       "      <td>3792</td>\n",
       "    </tr>\n",
       "  </tbody>\n",
       "</table>\n",
       "</div>"
      ],
      "text/plain": [
       "     Date of Census  Total Adults in Shelter  Total Children in Shelter  \\\n",
       "2792     2021-05-10                    33430                      15504   \n",
       "2791     2021-05-09                    33565                      15619   \n",
       "2790     2021-05-08                    33466                      15630   \n",
       "2789     2021-05-07                    33511                      15606   \n",
       "2788     2021-05-06                    33560                      15587   \n",
       "\n",
       "      Total Individuals in Shelter  Single Adult Men in Shelter  \\\n",
       "2792                         48934                        13565   \n",
       "2791                         49184                        13614   \n",
       "2790                         49096                        13479   \n",
       "2789                         49117                        13490   \n",
       "2788                         49147                        13551   \n",
       "\n",
       "      Single Adult Women in Shelter  Total Single Adults in Shelter  \\\n",
       "2792                           4361                           17926   \n",
       "2791                           4346                           17960   \n",
       "2790                           4360                           17839   \n",
       "2789                           4377                           17867   \n",
       "2788                           4389                           17940   \n",
       "\n",
       "      Families with Children in Shelter  \\\n",
       "2792                               8920   \n",
       "2791                               8981   \n",
       "2790                               8994   \n",
       "2789                               8999   \n",
       "2788                               8985   \n",
       "\n",
       "      Adults in Families with Children in Shelter  \\\n",
       "2792                                        11728   \n",
       "2791                                        11814   \n",
       "2790                                        11833   \n",
       "2789                                        11844   \n",
       "2788                                        11828   \n",
       "\n",
       "      Children in Families with Children in Shelter  \\\n",
       "2792                                          15504   \n",
       "2791                                          15619   \n",
       "2790                                          15630   \n",
       "2789                                          15606   \n",
       "2788                                          15587   \n",
       "\n",
       "      Total Individuals in Families with Children in Shelter   \\\n",
       "2792                                              27232         \n",
       "2791                                              27433         \n",
       "2790                                              27463         \n",
       "2789                                              27450         \n",
       "2788                                              27415         \n",
       "\n",
       "      Adult Families in Shelter  Individuals in Adult Families in Shelter  \n",
       "2792                       1795                                      3776  \n",
       "2791                       1802                                      3791  \n",
       "2790                       1804                                      3794  \n",
       "2789                       1807                                      3800  \n",
       "2788                       1803                                      3792  "
      ]
     },
     "execution_count": 5,
     "metadata": {},
     "output_type": "execute_result"
    }
   ],
   "source": [
    "homeless.head()"
   ]
  },
  {
   "cell_type": "code",
   "execution_count": 6,
   "metadata": {},
   "outputs": [],
   "source": [
    "def plotGraph(date,data):\n",
    "    plt.plot(date,data,label=\"Total Homeless\")\n",
    "    plt.xlabel('X')\n",
    "    plt.ylabel('Y')\n",
    "    plt.legend(loc='upper right')\n",
    "    plt.xticks(rotation=30)\n",
    "    plt.show()"
   ]
  },
  {
   "cell_type": "code",
   "execution_count": 7,
   "metadata": {},
   "outputs": [
    {
     "data": {
      "image/png": "[encoded data removed]",
      "text/plain": [
       "<Figure size 432x288 with 1 Axes>"
      ]
     },
     "metadata": {
      "needs_background": "light"
     },
     "output_type": "display_data"
    }
   ],
   "source": [
    "date = homeless['Date of Census'][:600]\n",
    "individualsInShelter = homeless['Total Individuals in Shelter'][:600]\n",
    "plotGraph(date,individualsInShelter)"
   ]
  },
  {
   "cell_type": "markdown",
   "metadata": {},
   "source": [
    "As we are using entire US data, and don't need individual state level data for our X dataset, we have added the values in US_deaths datasets to get the total deaths and added it as a new column."
   ]
  },
  {
   "cell_type": "code",
   "execution_count": 8,
   "metadata": {},
   "outputs": [],
   "source": [
    "us_deaths_transposed = us_deaths.T\n",
    "new_header = us_deaths_transposed.iloc[0] #grab the first row for the header\n",
    "us_deaths_transposed= us_deaths_transposed[1:] #take the data less the header row\n",
    "us_deaths_transposed.columns = new_header #set the header row as the df header\n",
    "us_deaths_transposed['total_death'] = us_deaths_transposed.sum(axis =1)"
   ]
  },
  {
   "cell_type": "code",
   "execution_count": 9,
   "metadata": {},
   "outputs": [],
   "source": [
    "date = us_deaths_transposed.index\n",
    "us_deaths_transposed['date'] = date"
   ]
  },
  {
   "cell_type": "markdown",
   "metadata": {},
   "source": [
    "The data given in US_deaths is cumulative, so we have converted it into per day stats."
   ]
  },
  {
   "cell_type": "code",
   "execution_count": 10,
   "metadata": {},
   "outputs": [],
   "source": [
    "us_deaths_transposed = us_deaths_transposed.set_index('date').diff()"
   ]
  },
  {
   "cell_type": "code",
   "execution_count": 11,
   "metadata": {},
   "outputs": [],
   "source": [
    "us_deaths_transposed = us_deaths_transposed.reset_index()"
   ]
  },
  {
   "cell_type": "markdown",
   "metadata": {},
   "source": [
    "As we are using entire US data, and don't need individual state level data for our X dataset, we have added the values in US_confirmed datasets to get the total confirmed cases and added it as a new column."
   ]
  },
  {
   "cell_type": "code",
   "execution_count": 12,
   "metadata": {},
   "outputs": [],
   "source": [
    "us_confirmed_transposed = us_confirmed.T\n",
    "new_header = us_confirmed_transposed.iloc[0] #grab the first row for the header\n",
    "us_confirmed_transposed= us_confirmed_transposed[1:] #take the data less the header row\n",
    "us_confirmed_transposed.columns = new_header #set the header row as the df header\n",
    "us_confirmed_transposed['total_confirmed_cases'] = us_confirmed_transposed.sum(axis =1)"
   ]
  },
  {
   "cell_type": "code",
   "execution_count": 13,
   "metadata": {},
   "outputs": [],
   "source": [
    "date = us_confirmed_transposed.index\n",
    "us_confirmed_transposed['date'] = date"
   ]
  },
  {
   "cell_type": "markdown",
   "metadata": {},
   "source": [
    "The data given in US_deaths is cumulative, so we have converted it into per day stats."
   ]
  },
  {
   "cell_type": "code",
   "execution_count": 14,
   "metadata": {},
   "outputs": [],
   "source": [
    "us_confirmed_transposed = us_confirmed_transposed.set_index('date').diff()"
   ]
  },
  {
   "cell_type": "code",
   "execution_count": 15,
   "metadata": {},
   "outputs": [],
   "source": [
    "us_confirmed_transposed = us_confirmed_transposed.reset_index()"
   ]
  },
  {
   "cell_type": "markdown",
   "metadata": {},
   "source": [
    "## Inference 1 : Pearson Correlation Coefficient\n",
    "\n",
    "\n",
    "If we observe the below reference , \"March 11\" was the date when WHO Declares COVID-19 as a Pandemic. <br>\n",
    "Covid cases have drastically raised all around the world in March 2020 (https://www.ajmc.com/view/a-timeline-of-covid19-developments-in-2020). Hence, we have decided to consider the data for March 2020 and analyse the impact of Covid on Homeless Shelter\n",
    "\n",
    "In this inference, we are calculating the PEARSON CORRELATION COEFFICIENT for CONFIRMED CASES v/s TOTAL INVIDUALS IN HOMELESS SHELTER in the Month of March, 2020\n"
   ]
  },
  {
   "cell_type": "code",
   "execution_count": 16,
   "metadata": {},
   "outputs": [],
   "source": [
    "def person_correlation_coefficient(x, y):\n",
    "    cov_matrix = np.cov(x,y)\n",
    "    r = cov_matrix[0][1]/np.sqrt((cov_matrix[0][0]*cov_matrix[1][1]))\n",
    "    print(\"Pearson Correlation Coefficient Value is: \" + \"{:5.2f}\".format(r))\n",
    "    return r"
   ]
  },
  {
   "cell_type": "code",
   "execution_count": 17,
   "metadata": {},
   "outputs": [],
   "source": [
    "us_confirmed_march = us_confirmed_transposed[((us_confirmed_transposed['date'] >= '2020-03-01'))][:30]\n",
    "homeless_march = homeless[((homeless['Date of Census'].dt.strftime('%Y-%m-%d') >= '2020-03-01'))][-30:]"
   ]
  },
  {
   "cell_type": "code",
   "execution_count": 18,
   "metadata": {},
   "outputs": [],
   "source": [
    "homeless_march.rename(columns={'Date of Census': 'date'}, inplace=True)\n",
    "homeless_march.date = homeless_march.date.astype(str)\n",
    "us_confirmed_march.date = us_confirmed_march.date.astype(str)\n",
    "df = pd.merge(us_confirmed_march, homeless_march, on=['date'])"
   ]
  },
  {
   "cell_type": "code",
   "execution_count": 19,
   "metadata": {},
   "outputs": [
    {
     "name": "stdout",
     "output_type": "stream",
     "text": [
      "Pearson Correlation Coefficient Value is:  0.87\n"
     ]
    },
    {
     "data": {
      "text/plain": [
       "0.8667049105387643"
      ]
     },
     "execution_count": 19,
     "metadata": {},
     "output_type": "execute_result"
    }
   ],
   "source": [
    "person_correlation_coefficient(np.array(us_confirmed_march['total_confirmed_cases']), np.array(homeless_march['Total Individuals in Shelter']))"
   ]
  },
  {
   "cell_type": "code",
   "execution_count": 20,
   "metadata": {},
   "outputs": [
    {
     "data": {
      "image/png": "[encoded data removed]",
      "text/plain": [
       "<Figure size 1080x360 with 2 Axes>"
      ]
     },
     "metadata": {
      "needs_background": "light"
     },
     "output_type": "display_data"
    }
   ],
   "source": [
    "fig, ax1 = plt.subplots(figsize = (15,5))\n",
    "ax1.plot(df['date'],df['Total Individuals in Shelter'], color = 'tab:orange')\n",
    "ax1.set_xticks(df.date)\n",
    "ax1.set_xticklabels(ax1.get_xticks(),rotation=90)\n",
    "ax1.set_ylabel('Total Individuals in HomelessShelter',color = 'tab:orange')\n",
    "ax2 = ax1.twinx()\n",
    "ax2.plot(df['date'],df['total_confirmed_cases'],color = 'tab:blue')\n",
    "ax2.set_ylabel('No of COnfirmed Covid Cases',color = 'tab:blue')\n",
    "plt.title('Number of Individuals in Homeless Shelter vs Number of confirmed COVID-19 cases in MARCH,2020')\n",
    "fig.tight_layout()\n",
    "plt.show()"
   ]
  },
  {
   "cell_type": "markdown",
   "metadata": {},
   "source": [
    "## Observation :\n",
    "\n",
    "The below is the analysis for Number of individuals in Homeless Shelter vs Number of confirmed COVID-19 cases (in MARCH'20)\n",
    "\n",
    "Pearson Correlation Coefficient Value is: 0.87\n",
    "\n",
    "This value shows a strong postive correlation between Number of individuals in Homeless Shelter and Number of confirmed COVID-19 cases.This implies that Covid pandemic has an impact on people's lives causing lot of individuals to lose their job and income due to the ongoing pandemic. Due to loss of income and quality of life, many people have gone homeless, and had to move into a shelter. Hence we can infer that as the impact of Covid increases(/cases increased),total Individuals in Homeless Shelter increases.\n"
   ]
  },
  {
   "cell_type": "markdown",
   "metadata": {},
   "source": [
    "## Inference 2 : Chi-Square Test\n",
    "\n",
    "In this inference, we are checking if the covid vaccination had an impact on the homeless people in the shelter.\n",
    "We have chosen 60 days before and after the vaccination drive started in the USA (2020-12-14). \n",
    "From the US-all datasets, we are taking the total covid deaths and total covid confirmed cases.\n",
    "From the X (Homeless) dataset, we are taking the total homeless men and the total homeless women in the shelter.\n",
    "\n",
    "Our null hypothesis is that the underlying distributions both datasets are independent, i.e, the vaccination drive did not have an impact on the distributions, and the distribution of US cases and deaths is independent of distribution of the number of single men and single women in the shelter.\n",
    "\n",
    "We are taking threshold as alpha = 0.05"
   ]
  },
  {
   "cell_type": "code",
   "execution_count": 21,
   "metadata": {},
   "outputs": [],
   "source": [
    "#homeless dataset split into 60 days before/after the covid vaccination drive of 2020-12-14\n",
    "\n",
    "homeless_after_vaccine = homeless[((homeless['Date of Census'].dt.strftime('%Y-%m-%d') >= '2020-12-14'))][-60:]\n",
    "homeless_before_vaccine = homeless[(homeless['Date of Census'].dt.strftime('%Y-%m-%d') <= '2020-12-14')][:60]"
   ]
  },
  {
   "cell_type": "code",
   "execution_count": 22,
   "metadata": {},
   "outputs": [],
   "source": [
    "#us_deaths dataset split into 60 days before/after the covid vaccination drive of 2020-12-14\n",
    "\n",
    "us_deaths_after_vaccine = us_deaths_transposed[((us_deaths_transposed['date'] >= '2020-12-14'))][:60]\n",
    "us_deaths_before_vaccine = us_deaths_transposed[((us_deaths_transposed['date'] <= '2020-12-14'))][-60:]"
   ]
  },
  {
   "cell_type": "code",
   "execution_count": null,
   "metadata": {},
   "outputs": [],
   "source": [
    "#us_confirmed dataset split into 60 days before/after the covid vaccination drive of 2020-12-14\n",
    "\n",
    "us_confirmed_after_vaccine = us_confirmed_transposed[((us_confirmed_transposed['date'] >= '2020-12-14'))][:60]\n",
    "us_confirmed_before_vaccine = us_confirmed_transposed[((us_confirmed_transposed['date'] <= '2020-12-14'))][-60:]"
   ]
  },
  {
   "cell_type": "code",
   "execution_count": null,
   "metadata": {},
   "outputs": [],
   "source": [
    "# observed values for the chi-squared test - The rows are before/after vaccine, and columns are confirmed covid cases, \n",
    "# covid deaths,homeless women in shelter, homeless men in shelter.\n",
    "\n",
    "observed_values = np.zeros([2,4],int)\n",
    "observed_values[0][0] = us_confirmed_before_vaccine['total_confirmed_cases'].sum()\n",
    "observed_values[1][0] = us_confirmed_after_vaccine['total_confirmed_cases'].sum()\n",
    "observed_values[0][1] = us_deaths_before_vaccine['total_death'].sum()\n",
    "observed_values[1][1] = us_deaths_after_vaccine['total_death'].sum()\n",
    "observed_values[0][2] = homeless_before_vaccine['Single Adult Men in Shelter'].sum()\n",
    "observed_values[1][2] = homeless_after_vaccine['Single Adult Men in Shelter'].sum()\n",
    "observed_values[0][3] = homeless_before_vaccine['Single Adult Women in Shelter'].sum()\n",
    "observed_values[1][3] = homeless_after_vaccine['Single Adult Women in Shelter'].sum()\n",
    "\n",
    "rows = 2\n",
    "cols = 4\n",
    "\n",
    "df = (rows-1)*(cols-1)\n",
    "\n",
    "total_row1,total_row2= np.sum(observed_values,axis=1)\n",
    "total_col1,total_col2,total_col3,total_col4  = np.sum(observed_values,axis=0)\n",
    "\n",
    "\n",
    "total = total_row1+total_row2 \n",
    "\n",
    "#expected values for the chi-squared test\n",
    "expected_values = np.zeros([2,4])\n",
    "expected_values[0][0] = (float(total_col1)*total_row1)/(total)\n",
    "expected_values[1][0] = (float(total_col1)*total_row2)/(total)\n",
    "expected_values[0][1] = (float(total_col2)*total_row1)/(total)\n",
    "expected_values[1][1] = (float(total_col2)*total_row2)/(total)\n",
    "expected_values[0][2] = (float(total_col3)*total_row1)/(total)\n",
    "expected_values[1][2] = (float(total_col3)*total_row2)/(total)\n",
    "expected_values[0][3] = (float(total_col4)*total_row1)/(total)\n",
    "expected_values[1][3] = (float(total_col4)*total_row2)/(total)\n",
    "\n",
    "#calculating q_expected value\n",
    "q_expected = 0.0\n",
    "for i in range(rows):\n",
    "    for j in range(cols):\n",
    "        q_expected += ((expected_values[i][j] - observed_values[i][j])**2)/float(expected_values[i][j])\n",
    "        \n",
    "\n",
    "#Displaying chi-square table as a dataframe        \n",
    "df_ar1 = pd.DataFrame()\n",
    "df_ar1['Date'] = ['Before Vaccine','After Vaccine']\n",
    "df_ar1['Observed_Covid_Cases'] = observed_values[:,0]\n",
    "df_ar1['Expected_Covid_Cases'] = expected_values[:,0]\n",
    "df_ar1['Observed_Covid_Deaths'] = observed_values[:,1]\n",
    "df_ar1['Expected_Covid_Deaths'] = expected_values[:,1]\n",
    "df_ar1['Observed_Men_In_Shelter'] = observed_values[:,2]\n",
    "df_ar1['Expected_Men_In_Shelter'] = expected_values[:,2]\n",
    "df_ar1['Observed_Women_In_Shelter'] = observed_values[:,3]\n",
    "df_ar1['Expected_Women_In_Shelter'] = expected_values[:,3]\n",
    "\n",
    "print(\"\\nChi squared table\")\n",
    "df_ar1"
   ]
  },
  {
   "cell_type": "code",
   "execution_count": null,
   "metadata": {},
   "outputs": [],
   "source": [
    "print(\"Q_expected : \", q_expected)\n",
    "print(\"Degrees of freedom : \",df)"
   ]
  },
  {
   "cell_type": "markdown",
   "metadata": {},
   "source": [
    "## Observation :\n",
    "\n",
    "Q_expected : 47835.53178643774 <br>\n",
    "Degrees of freedom : 3 <br>\n",
    "\n",
    "We are taking alpha = 0.05<br>\n",
    "Since Q statistic is 47835( really large), with degrees of freedom = 3, we got from the p value calculator that the p-value will be < 0.00001 (really small).\n",
    "\n",
    "The P-Value is < .00001. The result is significant at alpha < .05.\n",
    "\n",
    "Hence, we reject the null hypothesis, and the initial covid vaccination drive of 14th December, 2020 had an impact, i.e, distribution of X = Men/Women in Shelters is dependent on the distribution of Y = US all cases/deaths."
   ]
  },
  {
   "cell_type": "markdown",
   "metadata": {},
   "source": [
    "## Inference 3 : Multi-variate Linear regression\n",
    "\n",
    "In this inference, we are trying to predict the total deaths in the United States with the help of the data of homeless people in the United States."
   ]
  },
  {
   "cell_type": "code",
   "execution_count": null,
   "metadata": {},
   "outputs": [],
   "source": [
    "#function to calculate the parameters and the sse error\n",
    "def parameter_search(x,y):\n",
    "    w = np.zeros((np.shape(x)[1],0))\n",
    "    A = np.dot(x.T,x)\n",
    "    b = np.dot(x.T,y)\n",
    "    beta = np.dot(np.linalg.pinv(A),b)\n",
    "    #beta = np.linalg.solve(A,b)\n",
    "    return beta\n",
    "\n",
    "def sse_error(x,y_true,beta):\n",
    "    y_pred = np.dot(x,beta)\n",
    "    error = 0\n",
    "    if len(y_true)!= len(y_pred):\n",
    "        print(\"invalid\")\n",
    "        return\n",
    "    for i in range(len(y_pred)):\n",
    "        error+= np.power((y_true[i] - y_pred[i]),2)\n",
    "    return error\n",
    "\n"
   ]
  },
  {
   "cell_type": "code",
   "execution_count": null,
   "metadata": {},
   "outputs": [],
   "source": [
    "#manipulation of all US death data to get the total deaths in the US\n",
    "\n",
    "us_all_data = us_deaths.T\n",
    "new_header = us_all_data.iloc[0] #grab the first row for the header\n",
    "us_all_data = us_all_data[1:] #take the data less the header row\n",
    "us_all_data.columns = new_header #set the header row as the df header\n",
    "us_all_data['total_death'] = us_all_data.sum(axis =1)\n",
    "date = us_all_data.index\n",
    "us_all_data['date'] = date\n",
    "us_all_data = us_all_data.set_index('date').diff()\n",
    "us_all_data = us_all_data.reset_index()\n",
    "us_all_data = us_all_data[us_all_data['date']>'2020-01-01']\n",
    "temp1 = us_all_data[['date','total_death']][1:]\n",
    "temp1['date'] = pd.to_datetime(temp1['date'])"
   ]
  },
  {
   "cell_type": "code",
   "execution_count": null,
   "metadata": {},
   "outputs": [],
   "source": [
    "#manipulation of the homeless so as to start is from 1st January 2020 so we can have overlap in our data\n",
    "\n",
    "homeless['Date of Census'] = pd.DataFrame(pd.to_datetime(homeless['Date of Census']))\n",
    "homeless = homeless.sort_values(by = 'Date of Census')\n",
    "\n",
    "small_data = homeless[homeless['Date of Census']>'2020-01-01']\n",
    "small_data = small_data[small_data['Date of Census']<='2021-04-03']\n",
    "# temp2 = small_data[['Date of Census', 'Total Individuals in Shelter']]\n",
    "temp2 = small_data"
   ]
  },
  {
   "cell_type": "code",
   "execution_count": null,
   "metadata": {},
   "outputs": [],
   "source": [
    "#Merging both the homeless and the death data\n",
    "\n",
    "temp = temp1.merge(temp2, how='left', left_on=['date'], right_on=['Date of Census'])\n",
    "temp = temp.dropna()"
   ]
  },
  {
   "cell_type": "code",
   "execution_count": null,
   "metadata": {},
   "outputs": [],
   "source": [
    "#find parameters values for all the features \n",
    "\n",
    "x = np.array(temp.drop(['total_death','date','Date of Census'], axis = 1))\n",
    "y =np.reshape(np.array(temp['total_death']),(-1,1))\n",
    "beta = parameter_search(x[:400],y[:400])\n",
    "error = sse_error(x[400:],y[400:],beta)\n",
    "print(\"The Error is:\", error)\n",
    "k = temp.drop(['total_death','date','Date of Census'], axis = 1)\n",
    "for i in range(len(k.columns)):\n",
    "    print(\"column name:\", k.columns[i], \" parameter value:\", beta[i])"
   ]
  },
  {
   "cell_type": "markdown",
   "metadata": {},
   "source": [
    "## Observation :\n",
    "\n",
    "From the above we can see that the sum of squared error is too high, and hence we can't predict the total deaths based on the homeless people data."
   ]
  },
  {
   "cell_type": "markdown",
   "metadata": {},
   "source": [
    "## Additional Data Analysis"
   ]
  },
  {
   "cell_type": "code",
   "execution_count": null,
   "metadata": {},
   "outputs": [],
   "source": [
    "date = homeless['Date of Census']\n",
    "individualsInShelter = homeless['Total Individuals in Shelter']\n",
    "plotGraph(date,individualsInShelter)"
   ]
  },
  {
   "cell_type": "markdown",
   "metadata": {},
   "source": [
    "## Basic Interpretation \n",
    "\n",
    "From the above plot, we can see that the individual in the homeless centers were increasing or remaining the same from year 2014 to start of 2020. But after, the start of the pandemic the people in the shelter are decreasing. We can say that an important factor of this could be people fearing to contract covid in these homeless shelters due to staying in close quarters with many people. So, we can infer that the covid has impacted the number of individual staying in the shelter home.\n",
    "\n",
    "So, this was something interesting and therefore, we tried another inference for this.\n"
   ]
  },
  {
   "cell_type": "markdown",
   "metadata": {},
   "source": [
    "## Inference 4 : Chi-Square Test\n",
    "\n",
    "In this inference, we are checking if the start of covid pandemic had an impact on the homeless people in the shelter. We have chosen 60 days before and after the start of covid in the USA (2020-03-01). From the US-all datasets, we are taking the total covid confirmed cases. From the X (Homeless) dataset, we are taking the total homeless individual in the shelters.\n",
    "\n",
    "Our null hypothesis is that the underlying distributions both datasets are independent, i.e, the covid did not have an impact on the distributions, and the distribution of US cases is independent of distribution of the number of individuals in the shelter.\n",
    "\n",
    "We are taking threshold as alpha = 0.05"
   ]
  },
  {
   "cell_type": "code",
   "execution_count": null,
   "metadata": {},
   "outputs": [],
   "source": [
    "#homeless dataset split into 60 days before/after the covid pandemic start of 2020-03-01\n",
    "\n",
    "homeless_after_covid = homeless[((homeless['Date of Census'].dt.strftime('%Y-%m-%d') >= '2020-03-01'))][-70:-10]\n",
    "homeless_before_covid = homeless[(homeless['Date of Census'].dt.strftime('%Y-%m-%d') <= '2020-03-01')][100:160]"
   ]
  },
  {
   "cell_type": "code",
   "execution_count": null,
   "metadata": {},
   "outputs": [],
   "source": [
    "#us confirmed dataset split into 60 days before/after the covid pandemic start of 2020-03-01\n",
    "\n",
    "us_confirmed_after_covid = us_confirmed_transposed[((us_confirmed_transposed['date'] >= '2020-03-01'))][100:160]\n",
    "us_confirmed_before_covid = us_confirmed_transposed[((us_confirmed_transposed['date'] <= '2020-03-01'))][-70:-10]"
   ]
  },
  {
   "cell_type": "code",
   "execution_count": null,
   "metadata": {},
   "outputs": [],
   "source": [
    "#observed values for the chi-squared test\n",
    "observed_values = np.zeros([2,2],int)\n",
    "observed_values[0][0] = us_confirmed_before_covid['total_confirmed_cases'].sum()\n",
    "observed_values[1][0] = us_confirmed_after_covid['total_confirmed_cases'].sum()\n",
    "observed_values[0][1] = homeless_before_covid['Total Individuals in Shelter'].sum()\n",
    "observed_values[1][1] = homeless_after_covid['Total Individuals in Shelter'].sum()\n",
    "\n",
    "rows = 2\n",
    "cols = 2\n",
    "\n",
    "df = (rows-1)*(cols-1)\n",
    "\n",
    "total_row1,total_row2 = np.sum(observed_values,axis=1)\n",
    "total_col1,total_col2 = np.sum(observed_values,axis=0)\n",
    "\n",
    "\n",
    "total = total_row1+total_row2 \n",
    "\n",
    "#expected values for the chi-squared test\n",
    "expected_values = np.zeros([2,4])\n",
    "expected_values[0][0] = (float(total_col1)*total_row1)/(total)\n",
    "expected_values[1][0] = (float(total_col1)*total_row2)/(total)\n",
    "expected_values[0][1] = (float(total_col2)*total_row1)/(total)\n",
    "expected_values[1][1] = (float(total_col2)*total_row2)/(total)\n",
    "\n",
    "q_expected = 0.0\n",
    "for i in range(rows):\n",
    "    for j in range(cols):\n",
    "        q_expected += ((expected_values[i][j] - observed_values[i][j])**2)/float(expected_values[i][j])\n",
    "        \n",
    "\n",
    "#Displaying chi-square table as a dataframe      \n",
    "print(\"\\nChi squared table\")\n",
    "\n",
    "df_ar1 = pd.DataFrame()\n",
    "df_ar1['Date'] = ['Before Covid','After Covid']\n",
    "df_ar1['Observed_Covid_Cases'] = observed_values[:,0]\n",
    "df_ar1['Expected_Covid_Cases'] = expected_values[:,0]\n",
    "df_ar1['Observed_Individual_In_Shelter'] = observed_values[:,1]\n",
    "df_ar1['Expected_Individual_In_Shelter'] = expected_values[:,1]\n",
    "\n",
    "df_ar1"
   ]
  },
  {
   "cell_type": "code",
   "execution_count": null,
   "metadata": {},
   "outputs": [],
   "source": [
    "print(\"Q_expected : \", q_expected)\n",
    "print(\"Degrees of freedom : \",df)"
   ]
  },
  {
   "cell_type": "markdown",
   "metadata": {},
   "source": [
    "## Observation : \n",
    "\n",
    "Q_expected : 2248227.447271685 <br>\n",
    "Degrees of freedom : 1 <br>\n",
    "We are taking alpha = 0.05 <br>\n",
    "Since Q statistic is 2248227.447271685(really large), with degrees of freedom = 1, we got from the p value calculator that the p-value will be < 0.00001 (really small).\n",
    "\n",
    "The P-Value is < .00001. The result is significant at alpha < .05.\n",
    "\n",
    "Hence, we reject the null hypothesis, and the number of covid cases had and impact on the Total number of individual in the shelter, i.e,  distribution of X = Total Individual in Shelters is dependent on the distribution of Y = US all cases. From, the result we can say that due to covid the people in the shelter home have started leaving the shelter home. This may not be the only factor but this is an important factor for people leaving the shelter homes.\n"
   ]
  }
 ],
 "metadata": {
  "kernelspec": {
   "display_name": "Python 3",
   "language": "python",
   "name": "python3"
  },
  "language_info": {
   "codemirror_mode": {
    "name": "ipython",
    "version": 3
   },
   "file_extension": ".py",
   "mimetype": "text/x-python",
   "name": "python",
   "nbconvert_exporter": "python",
   "pygments_lexer": "ipython3",
   "version": "3.8.5"
  }
 },
 "nbformat": 4,
 "nbformat_minor": 4
}

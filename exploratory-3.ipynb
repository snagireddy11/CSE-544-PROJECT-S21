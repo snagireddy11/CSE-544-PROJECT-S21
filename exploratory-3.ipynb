{
 "cells": [
  {
   "cell_type": "markdown",
   "metadata": {},
   "source": [
    "# Exploratory Task 3\n"
   ]
  },
  {
   "cell_type": "markdown",
   "metadata": {},
   "source": [
    "In this task, we are initially checking for missing/null values in the US-All datasets and the X dataset. \n",
    "\n",
    "There is a date format difference between US-All datasets and our X (Homelessness) dataset. \n",
    "Our X dataset had the format mm/dd/yyyy whereas the US-All dataset has yyyy-mm-dd. We have converted X dataset format to yyyy-mm-dd.\n"
   ]
  },
  {
   "cell_type": "code",
   "execution_count": 1,
   "metadata": {},
   "outputs": [],
   "source": [
    "import pandas as pd\n",
    "import seaborn as sns\n",
    "import numpy as np\n",
    "import matplotlib.pyplot as plt"
   ]
  },
  {
   "cell_type": "code",
   "execution_count": 2,
   "metadata": {},
   "outputs": [],
   "source": [
    "us_confirmed = pd.read_csv(\"US-all/US_confirmed.csv\")\n",
    "us_deaths = pd.read_csv(\"US-all/US_deaths.csv\")\n",
    "homeless = pd.read_csv(\"US-all/DHS_Daily_Report.csv\")"
   ]
  },
  {
   "cell_type": "code",
   "execution_count": 3,
   "metadata": {
    "scrolled": true
   },
   "outputs": [
    {
     "name": "stdout",
     "output_type": "stream",
     "text": [
      "False\n",
      "False\n",
      "False\n"
     ]
    }
   ],
   "source": [
    "#Checking for null values in dataset\n",
    "\n",
    "print(us_confirmed.isnull().values.any())\n",
    "print(us_deaths.isnull().values.any())\n",
    "print(homeless.isnull().values.any())"
   ]
  },
  {
   "cell_type": "markdown",
   "metadata": {},
   "source": [
    "There are **no missing values** in any of the datasets."
   ]
  },
  {
   "cell_type": "code",
   "execution_count": 4,
   "metadata": {},
   "outputs": [],
   "source": [
    "#Converting date in homeless dataset to consistent format - yyyy-mm-dd, and sorting it in descending order\n",
    "\n",
    "homeless['Date of Census'] = pd.to_datetime(homeless['Date of Census'])\n",
    "homeless.sort_values(by=['Date of Census'], inplace=True, ascending=False)"
   ]
  },
  {
   "cell_type": "code",
   "execution_count": 5,
   "metadata": {},
   "outputs": [
    {
     "data": {
      "text/html": [
       "<div>\n",
       "<style scoped>\n",
       "    .dataframe tbody tr th:only-of-type {\n",
       "        vertical-align: middle;\n",
       "    }\n",
       "\n",
       "    .dataframe tbody tr th {\n",
       "        vertical-align: top;\n",
       "    }\n",
       "\n",
       "    .dataframe thead th {\n",
       "        text-align: right;\n",
       "    }\n",
       "</style>\n",
       "<table border=\"1\" class=\"dataframe\">\n",
       "  <thead>\n",
       "    <tr style=\"text-align: right;\">\n",
       "      <th></th>\n",
       "      <th>Date of Census</th>\n",
       "      <th>Total Adults in Shelter</th>\n",
       "      <th>Total Children in Shelter</th>\n",
       "      <th>Total Individuals in Shelter</th>\n",
       "      <th>Single Adult Men in Shelter</th>\n",
       "      <th>Single Adult Women in Shelter</th>\n",
       "      <th>Total Single Adults in Shelter</th>\n",
       "      <th>Families with Children in Shelter</th>\n",
       "      <th>Adults in Families with Children in Shelter</th>\n",
       "      <th>Children in Families with Children in Shelter</th>\n",
       "      <th>Total Individuals in Families with Children in Shelter</th>\n",
       "      <th>Adult Families in Shelter</th>\n",
       "      <th>Individuals in Adult Families in Shelter</th>\n",
       "    </tr>\n",
       "  </thead>\n",
       "  <tbody>\n",
       "    <tr>\n",
       "      <th>2792</th>\n",
       "      <td>2021-05-10</td>\n",
       "      <td>33430</td>\n",
       "      <td>15504</td>\n",
       "      <td>48934</td>\n",
       "      <td>13565</td>\n",
       "      <td>4361</td>\n",
       "      <td>17926</td>\n",
       "      <td>8920</td>\n",
       "      <td>11728</td>\n",
       "      <td>15504</td>\n",
       "      <td>27232</td>\n",
       "      <td>1795</td>\n",
       "      <td>3776</td>\n",
       "    </tr>\n",
       "    <tr>\n",
       "      <th>2791</th>\n",
       "      <td>2021-05-09</td>\n",
       "      <td>33565</td>\n",
       "      <td>15619</td>\n",
       "      <td>49184</td>\n",
       "      <td>13614</td>\n",
       "      <td>4346</td>\n",
       "      <td>17960</td>\n",
       "      <td>8981</td>\n",
       "      <td>11814</td>\n",
       "      <td>15619</td>\n",
       "      <td>27433</td>\n",
       "      <td>1802</td>\n",
       "      <td>3791</td>\n",
       "    </tr>\n",
       "    <tr>\n",
       "      <th>2790</th>\n",
       "      <td>2021-05-08</td>\n",
       "      <td>33466</td>\n",
       "      <td>15630</td>\n",
       "      <td>49096</td>\n",
       "      <td>13479</td>\n",
       "      <td>4360</td>\n",
       "      <td>17839</td>\n",
       "      <td>8994</td>\n",
       "      <td>11833</td>\n",
       "      <td>15630</td>\n",
       "      <td>27463</td>\n",
       "      <td>1804</td>\n",
       "      <td>3794</td>\n",
       "    </tr>\n",
       "    <tr>\n",
       "      <th>2789</th>\n",
       "      <td>2021-05-07</td>\n",
       "      <td>33511</td>\n",
       "      <td>15606</td>\n",
       "      <td>49117</td>\n",
       "      <td>13490</td>\n",
       "      <td>4377</td>\n",
       "      <td>17867</td>\n",
       "      <td>8999</td>\n",
       "      <td>11844</td>\n",
       "      <td>15606</td>\n",
       "      <td>27450</td>\n",
       "      <td>1807</td>\n",
       "      <td>3800</td>\n",
       "    </tr>\n",
       "    <tr>\n",
       "      <th>2788</th>\n",
       "      <td>2021-05-06</td>\n",
       "      <td>33560</td>\n",
       "      <td>15587</td>\n",
       "      <td>49147</td>\n",
       "      <td>13551</td>\n",
       "      <td>4389</td>\n",
       "      <td>17940</td>\n",
       "      <td>8985</td>\n",
       "      <td>11828</td>\n",
       "      <td>15587</td>\n",
       "      <td>27415</td>\n",
       "      <td>1803</td>\n",
       "      <td>3792</td>\n",
       "    </tr>\n",
       "  </tbody>\n",
       "</table>\n",
       "</div>"
      ],
      "text/plain": [
       "     Date of Census  Total Adults in Shelter  Total Children in Shelter  \\\n",
       "2792     2021-05-10                    33430                      15504   \n",
       "2791     2021-05-09                    33565                      15619   \n",
       "2790     2021-05-08                    33466                      15630   \n",
       "2789     2021-05-07                    33511                      15606   \n",
       "2788     2021-05-06                    33560                      15587   \n",
       "\n",
       "      Total Individuals in Shelter  Single Adult Men in Shelter  \\\n",
       "2792                         48934                        13565   \n",
       "2791                         49184                        13614   \n",
       "2790                         49096                        13479   \n",
       "2789                         49117                        13490   \n",
       "2788                         49147                        13551   \n",
       "\n",
       "      Single Adult Women in Shelter  Total Single Adults in Shelter  \\\n",
       "2792                           4361                           17926   \n",
       "2791                           4346                           17960   \n",
       "2790                           4360                           17839   \n",
       "2789                           4377                           17867   \n",
       "2788                           4389                           17940   \n",
       "\n",
       "      Families with Children in Shelter  \\\n",
       "2792                               8920   \n",
       "2791                               8981   \n",
       "2790                               8994   \n",
       "2789                               8999   \n",
       "2788                               8985   \n",
       "\n",
       "      Adults in Families with Children in Shelter  \\\n",
       "2792                                        11728   \n",
       "2791                                        11814   \n",
       "2790                                        11833   \n",
       "2789                                        11844   \n",
       "2788                                        11828   \n",
       "\n",
       "      Children in Families with Children in Shelter  \\\n",
       "2792                                          15504   \n",
       "2791                                          15619   \n",
       "2790                                          15630   \n",
       "2789                                          15606   \n",
       "2788                                          15587   \n",
       "\n",
       "      Total Individuals in Families with Children in Shelter   \\\n",
       "2792                                              27232         \n",
       "2791                                              27433         \n",
       "2790                                              27463         \n",
       "2789                                              27450         \n",
       "2788                                              27415         \n",
       "\n",
       "      Adult Families in Shelter  Individuals in Adult Families in Shelter  \n",
       "2792                       1795                                      3776  \n",
       "2791                       1802                                      3791  \n",
       "2790                       1804                                      3794  \n",
       "2789                       1807                                      3800  \n",
       "2788                       1803                                      3792  "
      ]
     },
     "execution_count": 5,
     "metadata": {},
     "output_type": "execute_result"
    }
   ],
   "source": [
    "homeless.head()"
   ]
  },
  {
   "cell_type": "code",
   "execution_count": 6,
   "metadata": {},
   "outputs": [],
   "source": [
    "def plotGraph(date,data):\n",
    "    plt.plot(date,data,label=\"Total Homeless\")\n",
    "    plt.xlabel('X')\n",
    "    plt.ylabel('Y')\n",
    "    plt.legend(loc='upper right')\n",
    "    plt.xticks(rotation=30)\n",
    "    plt.show()"
   ]
  },
  {
   "cell_type": "code",
   "execution_count": 7,
   "metadata": {},
   "outputs": [
    {
     "data": {
      "image/png": "[encoded data removed]",
      "text/plain": [
       "<Figure size 432x288 with 1 Axes>"
      ]
     },
     "metadata": {
      "needs_background": "light"
     },
     "output_type": "display_data"
    }
   ],
   "source": [
    "date = homeless['Date of Census'][:600]\n",
    "individualsInShelter = homeless['Total Individuals in Shelter'][:600]\n",
    "plotGraph(date,individualsInShelter)"
   ]
  },
  {
   "cell_type": "markdown",
   "metadata": {},
   "source": [
    "As we are using entire US data, and don't need individual state level data for our X dataset, we have added the values in US_deaths datasets to get the total deaths and added it as a new column."
   ]
  },
  {
   "cell_type": "code",
   "execution_count": 8,
   "metadata": {},
   "outputs": [],
   "source": [
    "us_deaths_transposed = us_deaths.T\n",
    "new_header = us_deaths_transposed.iloc[0] #grab the first row for the header\n",
    "us_deaths_transposed= us_deaths_transposed[1:] #take the data less the header row\n",
    "us_deaths_transposed.columns = new_header #set the header row as the df header\n",
    "us_deaths_transposed['total_death'] = us_deaths_transposed.sum(axis =1)"
   ]
  },
  {
   "cell_type": "code",
   "execution_count": 9,
   "metadata": {},
   "outputs": [],
   "source": [
    "date = us_deaths_transposed.index\n",
    "us_deaths_transposed['date'] = date"
   ]
  },
  {
   "cell_type": "markdown",
   "metadata": {},
   "source": [
    "The data given in US_deaths is cumulative, so we have converted it into per day stats."
   ]
  },
  {
   "cell_type": "code",
   "execution_count": 10,
   "metadata": {},
   "outputs": [],
   "source": [
    "us_deaths_transposed = us_deaths_transposed.set_index('date').diff()"
   ]
  },
  {
   "cell_type": "code",
   "execution_count": 11,
   "metadata": {},
   "outputs": [],
   "source": [
    "us_deaths_transposed = us_deaths_transposed.reset_index()"
   ]
  },
  {
   "cell_type": "markdown",
   "metadata": {},
   "source": [
    "As we are using entire US data, and don't need individual state level data for our X dataset, we have added the values in US_confirmed datasets to get the total confirmed cases and added it as a new column."
   ]
  },
  {
   "cell_type": "code",
   "execution_count": 12,
   "metadata": {},
   "outputs": [],
   "source": [
    "us_confirmed_transposed = us_confirmed.T\n",
    "new_header = us_confirmed_transposed.iloc[0] #grab the first row for the header\n",
    "us_confirmed_transposed= us_confirmed_transposed[1:] #take the data less the header row\n",
    "us_confirmed_transposed.columns = new_header #set the header row as the df header\n",
    "us_confirmed_transposed['total_confirmed'] = us_confirmed_transposed.sum(axis =1)"
   ]
  },
  {
   "cell_type": "code",
   "execution_count": 13,
   "metadata": {},
   "outputs": [],
   "source": [
    "date = us_confirmed_transposed.index\n",
    "us_confirmed_transposed['date'] = date"
   ]
  },
  {
   "cell_type": "markdown",
   "metadata": {},
   "source": [
    "The data given in US_deaths is cumulative, so we have converted it into per day stats."
   ]
  },
  {
   "cell_type": "code",
   "execution_count": 14,
   "metadata": {},
   "outputs": [],
   "source": [
    "us_confirmed_transposed = us_confirmed_transposed.set_index('date').diff()"
   ]
  },
  {
   "cell_type": "code",
   "execution_count": 15,
   "metadata": {},
   "outputs": [],
   "source": [
    "us_confirmed_transposed = us_confirmed_transposed.reset_index()"
   ]
  },
  {
   "cell_type": "markdown",
   "metadata": {},
   "source": [
    "## Inference 2 : Chi-Square Test\n",
    "\n",
    "In this inference, we are checking if the covid vaccination had an impact on the homeless people in the shelter.\n",
    "We have chosen 60 days before and after the vaccination drive started in the USA (2020-12-14). \n",
    "From the US-all datasets, we are taking the total covid deaths and total covid confirmed cases.\n",
    "From the X (Homeless) dataset, we are taking the total homeless men and the total homeless women in the shelter.\n",
    "\n",
    "Our null hypothesis is that the underlying distributions both datasets are independent, i.e, the vaccination drive did not have an impact on the distributions, and the distribution of US cases and deaths is independent of distribution of the number of single men and single women in the shelter.\n",
    "\n",
    "We are taking threshold as alpha = 0.05"
   ]
  },
  {
   "cell_type": "code",
   "execution_count": 16,
   "metadata": {},
   "outputs": [],
   "source": [
    "#homeless dataset split into 60 days before/after the covid vaccination drive of 2020-12-14\n",
    "\n",
    "homeless_after_vaccine = homeless[((homeless['Date of Census'].dt.strftime('%Y-%m-%d') >= '2020-12-14'))][-60:]\n",
    "homeless_before_vaccine = homeless[(homeless['Date of Census'].dt.strftime('%Y-%m-%d') <= '2020-12-14')][:60]"
   ]
  },
  {
   "cell_type": "code",
   "execution_count": 17,
   "metadata": {},
   "outputs": [],
   "source": [
    "#us_deaths dataset split into 60 days before/after the covid vaccination drive of 2020-12-14\n",
    "\n",
    "us_deaths_after_vaccine = us_deaths_transposed[((us_deaths_transposed['date'] >= '2020-12-14'))][:60]\n",
    "us_deaths_before_vaccine = us_deaths_transposed[((us_deaths_transposed['date'] <= '2020-12-14'))][-60:]"
   ]
  },
  {
   "cell_type": "code",
   "execution_count": 18,
   "metadata": {},
   "outputs": [],
   "source": [
    "#us_confirmed dataset split into 60 days before/after the covid vaccination drive of 2020-12-14\n",
    "\n",
    "us_confirmed_after_vaccine = us_confirmed_transposed[((us_confirmed_transposed['date'] >= '2020-12-14'))][:60]\n",
    "us_confirmed_before_vaccine = us_confirmed_transposed[((us_confirmed_transposed['date'] <= '2020-12-14'))][-60:]"
   ]
  },
  {
   "cell_type": "code",
   "execution_count": 19,
   "metadata": {},
   "outputs": [
    {
     "name": "stdout",
     "output_type": "stream",
     "text": [
      "\n",
      "Chi squared table\n"
     ]
    },
    {
     "data": {
      "text/html": [
       "<div>\n",
       "<style scoped>\n",
       "    .dataframe tbody tr th:only-of-type {\n",
       "        vertical-align: middle;\n",
       "    }\n",
       "\n",
       "    .dataframe tbody tr th {\n",
       "        vertical-align: top;\n",
       "    }\n",
       "\n",
       "    .dataframe thead th {\n",
       "        text-align: right;\n",
       "    }\n",
       "</style>\n",
       "<table border=\"1\" class=\"dataframe\">\n",
       "  <thead>\n",
       "    <tr style=\"text-align: right;\">\n",
       "      <th></th>\n",
       "      <th>Date</th>\n",
       "      <th>Observed_Covid_Cases</th>\n",
       "      <th>Expected_Covid_Cases</th>\n",
       "      <th>Observed_Covid_Deaths</th>\n",
       "      <th>Expected_Covid_Deaths</th>\n",
       "      <th>Observed_Men_In_Shelter</th>\n",
       "      <th>Expected_Men_In_Shelter</th>\n",
       "      <th>Observed_Women_In_Shelter</th>\n",
       "      <th>Expected_Women_In_Shelter</th>\n",
       "    </tr>\n",
       "  </thead>\n",
       "  <tbody>\n",
       "    <tr>\n",
       "      <th>0</th>\n",
       "      <td>Before Vaccine</td>\n",
       "      <td>8295574</td>\n",
       "      <td>8.396023e+06</td>\n",
       "      <td>80520</td>\n",
       "      <td>110338.476274</td>\n",
       "      <td>817863</td>\n",
       "      <td>721555.665338</td>\n",
       "      <td>272230</td>\n",
       "      <td>238270.345545</td>\n",
       "    </tr>\n",
       "    <tr>\n",
       "      <th>1</th>\n",
       "      <td>After Vaccine</td>\n",
       "      <td>10938538</td>\n",
       "      <td>1.083809e+07</td>\n",
       "      <td>172250</td>\n",
       "      <td>142431.523726</td>\n",
       "      <td>835120</td>\n",
       "      <td>931427.334662</td>\n",
       "      <td>273614</td>\n",
       "      <td>307573.654455</td>\n",
       "    </tr>\n",
       "  </tbody>\n",
       "</table>\n",
       "</div>"
      ],
      "text/plain": [
       "             Date  Observed_Covid_Cases  Expected_Covid_Cases  \\\n",
       "0  Before Vaccine               8295574          8.396023e+06   \n",
       "1   After Vaccine              10938538          1.083809e+07   \n",
       "\n",
       "   Observed_Covid_Deaths  Expected_Covid_Deaths  Observed_Men_In_Shelter  \\\n",
       "0                  80520          110338.476274                   817863   \n",
       "1                 172250          142431.523726                   835120   \n",
       "\n",
       "   Expected_Men_In_Shelter  Observed_Women_In_Shelter  \\\n",
       "0            721555.665338                     272230   \n",
       "1            931427.334662                     273614   \n",
       "\n",
       "   Expected_Women_In_Shelter  \n",
       "0              238270.345545  \n",
       "1              307573.654455  "
      ]
     },
     "execution_count": 19,
     "metadata": {},
     "output_type": "execute_result"
    }
   ],
   "source": [
    "# observed values for the chi-squared test - The rows are before/after vaccine, and columns are confirmed covid cases, \n",
    "# covid deaths,homeless women in shelter, homeless men in shelter.\n",
    "\n",
    "observed_values = np.zeros([2,4],int)\n",
    "observed_values[0][0] = us_confirmed_before_vaccine['total_confirmed'].sum()\n",
    "observed_values[1][0] = us_confirmed_after_vaccine['total_confirmed'].sum()\n",
    "observed_values[0][1] = us_deaths_before_vaccine['total_death'].sum()\n",
    "observed_values[1][1] = us_deaths_after_vaccine['total_death'].sum()\n",
    "observed_values[0][2] = homeless_before_vaccine['Single Adult Men in Shelter'].sum()\n",
    "observed_values[1][2] = homeless_after_vaccine['Single Adult Men in Shelter'].sum()\n",
    "observed_values[0][3] = homeless_before_vaccine['Single Adult Women in Shelter'].sum()\n",
    "observed_values[1][3] = homeless_after_vaccine['Single Adult Women in Shelter'].sum()\n",
    "\n",
    "rows = 2\n",
    "cols = 4\n",
    "\n",
    "df = (rows-1)*(cols-1)\n",
    "\n",
    "total_row1,total_row2= np.sum(observed_values,axis=1)\n",
    "total_col1,total_col2,total_col3,total_col4  = np.sum(observed_values,axis=0)\n",
    "\n",
    "\n",
    "total = total_row1+total_row2 \n",
    "\n",
    "#expected values for the chi-squared test\n",
    "expected_values = np.zeros([2,4])\n",
    "expected_values[0][0] = (float(total_col1)*total_row1)/(total)\n",
    "expected_values[1][0] = (float(total_col1)*total_row2)/(total)\n",
    "expected_values[0][1] = (float(total_col2)*total_row1)/(total)\n",
    "expected_values[1][1] = (float(total_col2)*total_row2)/(total)\n",
    "expected_values[0][2] = (float(total_col3)*total_row1)/(total)\n",
    "expected_values[1][2] = (float(total_col3)*total_row2)/(total)\n",
    "expected_values[0][3] = (float(total_col4)*total_row1)/(total)\n",
    "expected_values[1][3] = (float(total_col4)*total_row2)/(total)\n",
    "\n",
    "#calculating q_expected value\n",
    "q_expected = 0.0\n",
    "for i in range(rows):\n",
    "    for j in range(cols):\n",
    "        q_expected += ((expected_values[i][j] - observed_values[i][j])**2)/float(expected_values[i][j])\n",
    "        \n",
    "\n",
    "#Displaying chi-square table as a dataframe        \n",
    "df_ar1 = pd.DataFrame()\n",
    "df_ar1['Date'] = ['Before Vaccine','After Vaccine']\n",
    "df_ar1['Observed_Covid_Cases'] = observed_values[:,0]\n",
    "df_ar1['Expected_Covid_Cases'] = expected_values[:,0]\n",
    "df_ar1['Observed_Covid_Deaths'] = observed_values[:,1]\n",
    "df_ar1['Expected_Covid_Deaths'] = expected_values[:,1]\n",
    "df_ar1['Observed_Men_In_Shelter'] = observed_values[:,2]\n",
    "df_ar1['Expected_Men_In_Shelter'] = expected_values[:,2]\n",
    "df_ar1['Observed_Women_In_Shelter'] = observed_values[:,3]\n",
    "df_ar1['Expected_Women_In_Shelter'] = expected_values[:,3]\n",
    "\n",
    "print(\"\\nChi squared table\")\n",
    "df_ar1"
   ]
  },
  {
   "cell_type": "code",
   "execution_count": 20,
   "metadata": {},
   "outputs": [
    {
     "name": "stdout",
     "output_type": "stream",
     "text": [
      "Q_expected :  47835.53178643774\n",
      "Degrees of freedom :  3\n"
     ]
    }
   ],
   "source": [
    "print(\"Q_expected : \", q_expected)\n",
    "print(\"Degrees of freedom : \",df)"
   ]
  },
  {
   "cell_type": "markdown",
   "metadata": {},
   "source": [
    "We are taking alpha = 0.05\n",
    "Since Q statistic is 47835( really large), with degrees of freedom = 3, we got from the p value calculator that the p-value will be < 0.00001 (really small).\n",
    "\n",
    "The P-Value is < .00001. The result is significant at alpha < .05.\n",
    "\n",
    "Hence, we reject the null hypothesis, and the initial covid vaccination drive of 14th December, 2020 had an impact, i.e, distribution of X = Men/Women in Shelters is dependent on the distribution of Y = US all cases/deaths.\n"
   ]
  },
  {
   "cell_type": "code",
   "execution_count": null,
   "metadata": {},
   "outputs": [],
   "source": []
  }
 ],
 "metadata": {
  "kernelspec": {
   "display_name": "Python 3",
   "language": "python",
   "name": "python3"
  },
  "language_info": {
   "codemirror_mode": {
    "name": "ipython",
    "version": 3
   },
   "file_extension": ".py",
   "mimetype": "text/x-python",
   "name": "python",
   "nbconvert_exporter": "python",
   "pygments_lexer": "ipython3",
   "version": "3.8.5"
  }
 },
 "nbformat": 4,
 "nbformat_minor": 4
}

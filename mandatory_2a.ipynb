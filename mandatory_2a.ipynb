{
 "cells": [
  {
   "cell_type": "markdown",
   "metadata": {},
   "source": [
    "# Mandatory Task 2a"
   ]
  },
  {
   "cell_type": "code",
   "execution_count": 1,
   "metadata": {},
   "outputs": [],
   "source": [
    "import pandas as pd\n",
    "import numpy as np"
   ]
  },
  {
   "cell_type": "code",
   "execution_count": 2,
   "metadata": {},
   "outputs": [
    {
     "data": {
      "text/plain": [
       "(376, 5)"
      ]
     },
     "execution_count": 2,
     "metadata": {},
     "output_type": "execute_result"
    }
   ],
   "source": [
    "states_df_out = pd.read_csv(\"States Data/22_cleaned.csv\").drop(['Unnamed: 0'],axis=1)\n",
    "states_df_out.shape"
   ]
  },
  {
   "cell_type": "code",
   "execution_count": 3,
   "metadata": {},
   "outputs": [
    {
     "data": {
      "text/plain": [
       "(31, 5)"
      ]
     },
     "execution_count": 3,
     "metadata": {},
     "output_type": "execute_result"
    }
   ],
   "source": [
    "states_df_2a = states_df_out[((states_df_out['Date'] >= '2020-08-01') & (states_df_out['Date'] <= '2020-08-31'))]\n",
    "states_df_2a.shape"
   ]
  },
  {
   "cell_type": "code",
   "execution_count": 4,
   "metadata": {},
   "outputs": [],
   "source": [
    "train, test = states_df_2a[0:-7],states_df_2a[-7:]"
   ]
  },
  {
   "cell_type": "markdown",
   "metadata": {},
   "source": [
    "## AR with p = 3 and 5 "
   ]
  },
  {
   "cell_type": "code",
   "execution_count": 5,
   "metadata": {},
   "outputs": [],
   "source": [
    "def getMSEandMAPE(actual, prediction):\n",
    "    mse = 0\n",
    "    mape = 0\n",
    "    for x in range(len(actual)):\n",
    "        mse += np.square(prediction[x] - actual[x])\n",
    "        mape += abs(actual[x] - prediction[x])/actual[x]\n",
    "    mse = mse/len(actual)\n",
    "    mape = (mape/len(actual))*100\n",
    "    return mse, mape "
   ]
  },
  {
   "cell_type": "code",
   "execution_count": 6,
   "metadata": {},
   "outputs": [],
   "source": [
    "def ar_train(data,p,curLen):\n",
    "    X = []\n",
    "    Y = []\n",
    "    for i in range(curLen):\n",
    "        if i+p < curLen :\n",
    "            X.append([1] + list(data[i:i+p]))\n",
    "            Y.append(data[i+p])            \n",
    "        else:\n",
    "            break\n",
    "    return X, Y\n",
    "\n",
    "def getBetaValues(X,Y):\n",
    "    beta=np.matmul(np.linalg.inv(np.matmul(np.transpose(X),X)),np.matmul(np.transpose(X),Y))\n",
    "    return beta\n",
    "\n",
    "def ar_pred(train, test, p):\n",
    "    data = np.hstack([train, test])\n",
    "    trainLen = data.shape[0] - test.shape[0] \n",
    "    predictions = np.zeros(test.shape[0])\n",
    "    for i in range(trainLen,data.shape[0]):\n",
    "        dat = np.hstack([[1], data[i-p:i]])\n",
    "        X,Y = ar_train(data, p, i)\n",
    "        beta = getBetaValues(X,Y)\n",
    "        predictions[i-trainLen] = np.matmul(dat,beta)\n",
    "\n",
    "    return predictions"
   ]
  },
  {
   "cell_type": "code",
   "execution_count": 7,
   "metadata": {},
   "outputs": [
    {
     "name": "stdout",
     "output_type": "stream",
     "text": [
      "\u001b[1m TN confirmed \u001b[0m \n",
      "\n",
      "   Actual    Predicted\n",
      "0   813.0  1682.735460\n",
      "1  1936.0  1419.627093\n",
      "2  1826.0  1718.582469\n",
      "3  1636.0  1634.727556\n",
      "4  1465.0  1579.627186\n",
      "5   835.0  1571.120433\n",
      "6  1818.0  1475.304503 \n",
      "\n",
      "MSE :  243867.6831167538  MAPE :  36.34911235351231 \n",
      "\n",
      "\n",
      "\u001b[1m TX confirmed \u001b[0m \n",
      "\n",
      "   Actual    Predicted\n",
      "0  6397.0  4514.706349\n",
      "1  5445.0  6367.400933\n",
      "2  5694.0  5893.878577\n",
      "3  4150.0  6077.947372\n",
      "4  4733.0  5312.722264\n",
      "5  3761.0  5401.093170\n",
      "6  2550.0  4753.796890 \n",
      "\n",
      "MSE :  2290498.517660823  MAPE :  34.08738360474345 \n",
      "\n",
      "\n",
      "\u001b[1m TN deaths \u001b[0m \n",
      "\n",
      "   Actual  Predicted\n",
      "0    40.0  27.932749\n",
      "1    20.0  29.877670\n",
      "2    25.0  19.024509\n",
      "3    28.0  23.921775\n",
      "4    24.0  24.715985\n",
      "5    22.0  23.070699\n",
      "6     7.0  23.523434 \n",
      "\n",
      "MSE :  81.45831841988749  MAPE :  51.70323903348406 \n",
      "\n",
      "\n",
      "\u001b[1m TX deaths \u001b[0m \n",
      "\n",
      "   Actual   Predicted\n",
      "0   181.0  138.099671\n",
      "1   229.0  292.103796\n",
      "2   265.0  257.573662\n",
      "3   196.0  233.817839\n",
      "4   154.0  171.750801\n",
      "5    90.0  169.063178\n",
      "6    26.0  157.386058 \n",
      "\n",
      "MSE :  4448.034264031154  MAPE :  96.86582137300273 \n",
      "\n",
      "\n"
     ]
    }
   ],
   "source": [
    "cols = ['TN confirmed', 'TX confirmed', 'TN deaths', 'TX deaths']\n",
    "for col in cols:\n",
    "    \n",
    "    actual = np.array(test[col])\n",
    "    prediction = ar_pred(np.array(train[col]),np.array(test[col]), 3)\n",
    "    \n",
    "    df_ar1 = pd.DataFrame()\n",
    "    df_ar1['Actual'] = actual\n",
    "    df_ar1['Predicted'] = prediction\n",
    "    print('\\033[1m',col,'\\033[0m \\n')\n",
    "    print(df_ar1, '\\n')\n",
    "    \n",
    "    mse, mape = getMSEandMAPE(actual,prediction)\n",
    "    print('MSE : ', mse, ' MAPE : ', mape, '\\n\\n')"
   ]
  },
  {
   "cell_type": "code",
   "execution_count": null,
   "metadata": {},
   "outputs": [],
   "source": []
  },
  {
   "cell_type": "code",
   "execution_count": 8,
   "metadata": {},
   "outputs": [
    {
     "name": "stderr",
     "output_type": "stream",
     "text": [
      "C:\\Users\\rpunuru\\Anaconda3\\lib\\site-packages\\statsmodels\\tsa\\base\\tsa_model.py:578: ValueWarning: An unsupported index was provided and will be ignored when e.g. forecasting.\n",
      "  warnings.warn('An unsupported index was provided and will be'\n",
      "C:\\Users\\rpunuru\\Anaconda3\\lib\\site-packages\\statsmodels\\tsa\\ar_model.py:248: FutureWarning: The parameter names will change after 0.12 is released. Set old_names to False to use the new names now. Set old_names to True to use the old names. \n",
      "  warnings.warn(\n",
      "C:\\Users\\rpunuru\\Anaconda3\\lib\\site-packages\\statsmodels\\tsa\\base\\tsa_model.py:376: ValueWarning: No supported index is available. Prediction results will be given with an integer index beginning at `start`.\n",
      "  warnings.warn('No supported index is available.'\n"
     ]
    },
    {
     "data": {
      "text/plain": [
       "24    1682.735460\n",
       "25    1515.386344\n",
       "26    1753.608881\n",
       "27    1607.893389\n",
       "28    1647.917497\n",
       "29    1604.908293\n",
       "30    1627.022311\n",
       "dtype: float64"
      ]
     },
     "execution_count": 8,
     "metadata": {},
     "output_type": "execute_result"
    }
   ],
   "source": [
    "from statsmodels.tsa.ar_model import AutoReg\n",
    "\n",
    "ar_model = AutoReg(train['TN confirmed'], lags=3).fit()\n",
    "\n",
    "pred = ar_model.predict(start=len(train), end=(len(states_df_2a)-1), dynamic=False)\n",
    "\n",
    "pred"
   ]
  },
  {
   "cell_type": "markdown",
   "metadata": {},
   "source": [
    "## EMWA with alpha = 0.5 and 0.8"
   ]
  },
  {
   "cell_type": "code",
   "execution_count": 9,
   "metadata": {},
   "outputs": [],
   "source": [
    "def EWMA(data, alpha):\n",
    "\n",
    "    y_pred = []\n",
    "    y_pred.append(data[0])\n",
    "    for i in range(1,len(data)):\n",
    "        y_pred.append(alpha * data[i-1] + (1 - alpha) * y_pred[i-1])\n",
    "\n",
    "    y_actual = data\n",
    "    #Computing MSE and MAPE for test set\n",
    "    MSE, MAPE = getMSEandMAPE(y_pred[-7:], y_actual[-7:])\n",
    "    return y_pred,MSE,MAPE"
   ]
  },
  {
   "cell_type": "code",
   "execution_count": 10,
   "metadata": {},
   "outputs": [
    {
     "name": "stdout",
     "output_type": "stream",
     "text": [
      "\u001b[1m TN confirmed \u001b[0m \n",
      "\n",
      "     Actual  Predicted_EWMA(0.5)  Predicted_EWMA(0.8)\n",
      "214   813.0          1149.772742           882.915525\n",
      "215  1936.0           981.386371           826.983105\n",
      "216  1826.0          1458.693185          1714.196621\n",
      "217  1636.0          1642.346593          1803.639324\n",
      "218  1465.0          1639.173296          1669.527865\n",
      "219   835.0          1552.086648          1505.905573\n",
      "220  1818.0          1193.543324           969.181115 \n",
      "\n",
      "\n",
      "   Alpha            MSE       MAPE\n",
      "0    0.5  299164.767727  37.325142\n",
      "1    0.8  355407.004003  43.174667 \n",
      "\n",
      "\n",
      "\u001b[1m TX confirmed \u001b[0m \n",
      "\n",
      "     Actual  Predicted_EWMA(0.5)  Predicted_EWMA(0.8)\n",
      "214  6397.0          3918.991362          3185.316248\n",
      "215  5445.0          5157.995681          5754.663250\n",
      "216  5694.0          5301.497840          5506.932650\n",
      "217  4150.0          5497.748920          5656.586530\n",
      "218  4733.0          4823.874460          4451.317306\n",
      "219  3761.0          4778.437230          4676.663461\n",
      "220  2550.0          4269.718615          3944.132692 \n",
      "\n",
      "\n",
      "   Alpha           MSE       MAPE\n",
      "0    0.5  1.742036e+06  23.452344\n",
      "1    0.8  2.225285e+06  28.213501 \n",
      "\n",
      "\n",
      "\u001b[1m TN deaths \u001b[0m \n",
      "\n",
      "     Actual  Predicted_EWMA(0.5)  Predicted_EWMA(0.8)\n",
      "214    40.0            19.057459            18.333400\n",
      "215    20.0            29.528729            35.666680\n",
      "216    25.0            24.764365            23.133336\n",
      "217    28.0            24.882182            24.626667\n",
      "218    24.0            26.441091            27.325333\n",
      "219    22.0            25.220546            24.665067\n",
      "220     7.0            23.610273            22.533013 \n",
      "\n",
      "\n",
      "   Alpha         MSE       MAPE\n",
      "0    0.5  118.770719  35.428052\n",
      "1    0.8  141.312164  39.397461 \n",
      "\n",
      "\n",
      "\u001b[1m TX deaths \u001b[0m \n",
      "\n",
      "     Actual  Predicted_EWMA(0.5)  Predicted_EWMA(0.8)\n",
      "214   181.0            96.157597            45.529315\n",
      "215   229.0           138.578799           153.905863\n",
      "216   265.0           183.789399           213.981173\n",
      "217   196.0           224.394700           254.796235\n",
      "218   154.0           210.197350           207.759247\n",
      "219    90.0           182.098675           164.751849\n",
      "220    26.0           136.049337           104.950370 \n",
      "\n",
      "\n",
      "   Alpha          MSE      MAPE\n",
      "0    0.5  6646.687472  52.64619\n",
      "1    0.8  6394.630060  77.10447 \n",
      "\n",
      "\n"
     ]
    }
   ],
   "source": [
    "cols = ['TN confirmed', 'TX confirmed', 'TN deaths', 'TX deaths']\n",
    "for col in cols:\n",
    "\n",
    "    y_predicted_point5, MSE_predicted_point5, MAPE_predicted_point5 = EWMA((states_df_2a[col]).tolist(),0.5)\n",
    "    y_predicted_point8,MSE_predicted_point8, MAPE_predicted_point8  = EWMA((states_df_2a[col]).tolist(),0.8)\n",
    "\n",
    "    df_ar1 = pd.DataFrame()\n",
    "    df_ar1['Actual'] = states_df_2a[col][-7:]\n",
    "    df_ar1['Predicted_EWMA(0.5)'] = y_predicted_point5[-7:]\n",
    "    df_ar1['Predicted_EWMA(0.8)'] = y_predicted_point8[-7:]\n",
    "    print('\\033[1m',col,'\\033[0m \\n')\n",
    "    print(df_ar1, '\\n\\n')\n",
    "    \n",
    "    df_ar2 = pd.DataFrame()\n",
    "    df_ar2['Alpha'] = [0.5,0.8]\n",
    "    df_ar2['MSE'] = MSE_predicted_point5, MSE_predicted_point8\n",
    "    df_ar2['MAPE'] = MAPE_predicted_point5, MAPE_predicted_point8\n",
    "    print(df_ar2, '\\n\\n')"
   ]
  },
  {
   "cell_type": "code",
   "execution_count": null,
   "metadata": {},
   "outputs": [],
   "source": []
  },
  {
   "cell_type": "code",
   "execution_count": null,
   "metadata": {},
   "outputs": [],
   "source": []
  }
 ],
 "metadata": {
  "kernelspec": {
   "display_name": "Python 3",
   "language": "python",
   "name": "python3"
  },
  "language_info": {
   "codemirror_mode": {
    "name": "ipython",
    "version": 3
   },
   "file_extension": ".py",
   "mimetype": "text/x-python",
   "name": "python",
   "nbconvert_exporter": "python",
   "pygments_lexer": "ipython3",
   "version": "3.8.5"
  }
 },
 "nbformat": 4,
 "nbformat_minor": 4
}
